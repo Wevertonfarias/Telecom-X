{
  "cells": [
    {
      "cell_type": "markdown",
      "metadata": {
        "id": "4foVEKhrlqcH"
      },
      "source": [
        "#📌 Extracão"
      ]
    },
    {
      "cell_type": "markdown",
      "metadata": {
        "id": "04CjFleKIHlW"
      },
      "source": [
        "Nesta etapa, foram feitas as importações necessárias e os dados foram carregados a partir da fonte original. Os dados estão organizados em colunas principais e colunas aninhadas (como `customer`,` phone`, `internet`, `account`), que contêm dicionários com informações detalhadas."
      ]
    },
    {
      "cell_type": "code",
      "execution_count": 2,
      "metadata": {
        "colab": {
          "base_uri": "https://localhost:8080/",
          "height": 293
        },
        "id": "1--uPM88l7JH",
        "outputId": "2139a4f9-c563-4370-f2a3-53e0fd954169"
      },
      "outputs": [
        {
          "data": {
            "text/html": [
              "<div>\n",
              "<style scoped>\n",
              "    .dataframe tbody tr th:only-of-type {\n",
              "        vertical-align: middle;\n",
              "    }\n",
              "\n",
              "    .dataframe tbody tr th {\n",
              "        vertical-align: top;\n",
              "    }\n",
              "\n",
              "    .dataframe thead th {\n",
              "        text-align: right;\n",
              "    }\n",
              "</style>\n",
              "<table border=\"1\" class=\"dataframe\">\n",
              "  <thead>\n",
              "    <tr style=\"text-align: right;\">\n",
              "      <th></th>\n",
              "      <th>customerID</th>\n",
              "      <th>Churn</th>\n",
              "      <th>customer</th>\n",
              "      <th>phone</th>\n",
              "      <th>internet</th>\n",
              "      <th>account</th>\n",
              "    </tr>\n",
              "  </thead>\n",
              "  <tbody>\n",
              "    <tr>\n",
              "      <th>0</th>\n",
              "      <td>0002-ORFBO</td>\n",
              "      <td>No</td>\n",
              "      <td>{'gender': 'Female', 'SeniorCitizen': 0, 'Part...</td>\n",
              "      <td>{'PhoneService': 'Yes', 'MultipleLines': 'No'}</td>\n",
              "      <td>{'InternetService': 'DSL', 'OnlineSecurity': '...</td>\n",
              "      <td>{'Contract': 'One year', 'PaperlessBilling': '...</td>\n",
              "    </tr>\n",
              "    <tr>\n",
              "      <th>1</th>\n",
              "      <td>0003-MKNFE</td>\n",
              "      <td>No</td>\n",
              "      <td>{'gender': 'Male', 'SeniorCitizen': 0, 'Partne...</td>\n",
              "      <td>{'PhoneService': 'Yes', 'MultipleLines': 'Yes'}</td>\n",
              "      <td>{'InternetService': 'DSL', 'OnlineSecurity': '...</td>\n",
              "      <td>{'Contract': 'Month-to-month', 'PaperlessBilli...</td>\n",
              "    </tr>\n",
              "    <tr>\n",
              "      <th>2</th>\n",
              "      <td>0004-TLHLJ</td>\n",
              "      <td>Yes</td>\n",
              "      <td>{'gender': 'Male', 'SeniorCitizen': 0, 'Partne...</td>\n",
              "      <td>{'PhoneService': 'Yes', 'MultipleLines': 'No'}</td>\n",
              "      <td>{'InternetService': 'Fiber optic', 'OnlineSecu...</td>\n",
              "      <td>{'Contract': 'Month-to-month', 'PaperlessBilli...</td>\n",
              "    </tr>\n",
              "    <tr>\n",
              "      <th>3</th>\n",
              "      <td>0011-IGKFF</td>\n",
              "      <td>Yes</td>\n",
              "      <td>{'gender': 'Male', 'SeniorCitizen': 1, 'Partne...</td>\n",
              "      <td>{'PhoneService': 'Yes', 'MultipleLines': 'No'}</td>\n",
              "      <td>{'InternetService': 'Fiber optic', 'OnlineSecu...</td>\n",
              "      <td>{'Contract': 'Month-to-month', 'PaperlessBilli...</td>\n",
              "    </tr>\n",
              "    <tr>\n",
              "      <th>4</th>\n",
              "      <td>0013-EXCHZ</td>\n",
              "      <td>Yes</td>\n",
              "      <td>{'gender': 'Female', 'SeniorCitizen': 1, 'Part...</td>\n",
              "      <td>{'PhoneService': 'Yes', 'MultipleLines': 'No'}</td>\n",
              "      <td>{'InternetService': 'Fiber optic', 'OnlineSecu...</td>\n",
              "      <td>{'Contract': 'Month-to-month', 'PaperlessBilli...</td>\n",
              "    </tr>\n",
              "  </tbody>\n",
              "</table>\n",
              "</div>"
            ],
            "text/plain": [
              "   customerID Churn                                           customer  \\\n",
              "0  0002-ORFBO    No  {'gender': 'Female', 'SeniorCitizen': 0, 'Part...   \n",
              "1  0003-MKNFE    No  {'gender': 'Male', 'SeniorCitizen': 0, 'Partne...   \n",
              "2  0004-TLHLJ   Yes  {'gender': 'Male', 'SeniorCitizen': 0, 'Partne...   \n",
              "3  0011-IGKFF   Yes  {'gender': 'Male', 'SeniorCitizen': 1, 'Partne...   \n",
              "4  0013-EXCHZ   Yes  {'gender': 'Female', 'SeniorCitizen': 1, 'Part...   \n",
              "\n",
              "                                             phone  \\\n",
              "0   {'PhoneService': 'Yes', 'MultipleLines': 'No'}   \n",
              "1  {'PhoneService': 'Yes', 'MultipleLines': 'Yes'}   \n",
              "2   {'PhoneService': 'Yes', 'MultipleLines': 'No'}   \n",
              "3   {'PhoneService': 'Yes', 'MultipleLines': 'No'}   \n",
              "4   {'PhoneService': 'Yes', 'MultipleLines': 'No'}   \n",
              "\n",
              "                                            internet  \\\n",
              "0  {'InternetService': 'DSL', 'OnlineSecurity': '...   \n",
              "1  {'InternetService': 'DSL', 'OnlineSecurity': '...   \n",
              "2  {'InternetService': 'Fiber optic', 'OnlineSecu...   \n",
              "3  {'InternetService': 'Fiber optic', 'OnlineSecu...   \n",
              "4  {'InternetService': 'Fiber optic', 'OnlineSecu...   \n",
              "\n",
              "                                             account  \n",
              "0  {'Contract': 'One year', 'PaperlessBilling': '...  \n",
              "1  {'Contract': 'Month-to-month', 'PaperlessBilli...  \n",
              "2  {'Contract': 'Month-to-month', 'PaperlessBilli...  \n",
              "3  {'Contract': 'Month-to-month', 'PaperlessBilli...  \n",
              "4  {'Contract': 'Month-to-month', 'PaperlessBilli...  "
            ]
          },
          "execution_count": 2,
          "metadata": {},
          "output_type": "execute_result"
        }
      ],
      "source": [
        "import pandas as pd\n",
        "import numpy as np\n",
        "import matplotlib.pyplot as plt\n",
        "import seaborn as sns\n",
        "import plotly.express as px\n",
        "import os\n",
        "url = 'https://raw.githubusercontent.com/ingridcristh/challenge2-data-science/refs/heads/main/TelecomX_Data.json'\n",
        "DadosTelecomX = pd.read_json(url)\n",
        "DadosTelecomX.head()"
      ]
    },
    {
      "cell_type": "code",
      "execution_count": 3,
      "metadata": {
        "colab": {
          "base_uri": "https://localhost:8080/"
        },
        "id": "Wf8Dm77QsnyF",
        "outputId": "1e418498-2bfa-4db8-f6d6-6a806138f262"
      },
      "outputs": [
        {
          "name": "stdout",
          "output_type": "stream",
          "text": [
            "<class 'pandas.core.frame.DataFrame'>\n",
            "RangeIndex: 7267 entries, 0 to 7266\n",
            "Data columns (total 6 columns):\n",
            " #   Column      Non-Null Count  Dtype \n",
            "---  ------      --------------  ----- \n",
            " 0   customerID  7267 non-null   object\n",
            " 1   Churn       7267 non-null   object\n",
            " 2   customer    7267 non-null   object\n",
            " 3   phone       7267 non-null   object\n",
            " 4   internet    7267 non-null   object\n",
            " 5   account     7267 non-null   object\n",
            "dtypes: object(6)\n",
            "memory usage: 340.8+ KB\n"
          ]
        }
      ],
      "source": [
        "DadosTelecomX.info()"
      ]
    },
    {
      "cell_type": "markdown",
      "metadata": {
        "id": "1lSZP8zmmGZu"
      },
      "source": [
        "#🔧 Transformação"
      ]
    },
    {
      "cell_type": "markdown",
      "metadata": {
        "id": "LBwGV4bvIo2U"
      },
      "source": [
        "Foi criada uma função chamada `expandir_coluna` para transformar colunas com dicionários em colunas separadas. Isso facilita o acesso às variáveis internas e permite manipulações mais diretas."
      ]
    },
    {
      "cell_type": "code",
      "execution_count": 4,
      "metadata": {
        "id": "G9QQ2peksq6b"
      },
      "outputs": [],
      "source": [
        "# Função para converter colunas com dicionários em colunas separadas\n",
        "def expandir_coluna(df, coluna):\n",
        "    df_expandida = df[coluna].apply(pd.Series)\n",
        "    df_expandida.columns = [f\"{coluna}_{subcol}\" for subcol in df_expandida.columns]\n",
        "    return df_expandida\n",
        "\n",
        "\n",
        "df_customer = expandir_coluna(DadosTelecomX, 'customer')\n",
        "df_phone = expandir_coluna(DadosTelecomX, 'phone')\n",
        "df_internet = expandir_coluna(DadosTelecomX, 'internet')\n",
        "df_account = expandir_coluna(DadosTelecomX, 'account')\n",
        "\n",
        "# Expandir a subcoluna account_Charges (que ainda é um dicionário)\n",
        "df_charges = df_account['account_Charges'].apply(pd.Series)\n",
        "\n",
        "df_account = df_account.drop(columns=['account_Charges'])"
      ]
    },
    {
      "cell_type": "markdown",
      "metadata": {
        "id": "TOkr_YfCLXMC"
      },
      "source": [
        "Ao final, todas as colunas expandidas foram concatenadas em um único DataFrame final, pronto para análise exploratória, modelagem ou visualizações."
      ]
    },
    {
      "cell_type": "code",
      "execution_count": 5,
      "metadata": {
        "id": "yBevQZSVVMr_"
      },
      "outputs": [],
      "source": [
        "# 🔗 Concatenar tudo em um novo DataFrame final\n",
        "df_base = DadosTelecomX.drop(columns=['customer', 'phone', 'internet', 'account'])\n",
        "df_final = pd.concat([df_base, df_customer, df_phone, df_internet, df_account, df_charges], axis=1)"
      ]
    },
    {
      "cell_type": "markdown",
      "metadata": {
        "id": "j_6gqiiqI1f6"
      },
      "source": [
        "### 💬 Também foram renomeadas as colunas para o português, tornando os dados mais claros e acessíveis."
      ]
    },
    {
      "cell_type": "code",
      "execution_count": 6,
      "metadata": {
        "id": "ng9Qz2HdVaVi"
      },
      "outputs": [],
      "source": [
        "# Renomear colunas\n",
        "df_final = df_final.rename(columns={\n",
        "    'customerID': 'ID_cliente',\n",
        "    'Churn': 'Cancelamento',\n",
        "    'customer_gender': 'Genero',\n",
        "    'customer_SeniorCitizen': 'Idoso',\n",
        "    'customer_Partner': 'Tem_parceiro',\n",
        "    'customer_Dependents': 'Tem_dependentes',\n",
        "    'customer_tenure': 'Meses_com_empresa',\n",
        "    'phone_PhoneService': 'Servico_telefonico',\n",
        "    'phone_MultipleLines': 'Multiplas_linhas',\n",
        "    'internet_InternetService': 'Tipo_internet',\n",
        "    'internet_OnlineSecurity': 'Seguranca_online',\n",
        "    'internet_OnlineBackup': 'Backup_online',\n",
        "    'internet_DeviceProtection': 'Protecao_aparelho',\n",
        "    'internet_TechSupport': 'Suporte_tecnico',\n",
        "    'internet_StreamingTV': 'Streaming_TV',\n",
        "    'internet_StreamingMovies': 'Streaming_filmes',\n",
        "    'account_Contract': 'Tipo_contrato',\n",
        "    'account_PaperlessBilling': 'Fatura_digital',\n",
        "    'account_PaymentMethod': 'Forma_pagamento',\n",
        "    'Monthly': 'Valor_mensal',\n",
        "    'Total': 'Valor_total'\n",
        "})"
      ]
    },
    {
      "cell_type": "markdown",
      "metadata": {
        "id": "CBReopsBJ2Av"
      },
      "source": [
        "### 🛠️ Padronização dos Dados\n",
        "Realizou-se a padronização dos nomes das colunas e dos valores (por exemplo, \"Yes\"/\"No\" para 1/0), com o objetivo de facilitar análises estatísticas e modelagens futuras. A criação da coluna `Contas_Diarias` permitiu uma visão mais granular dos gastos mensais."
      ]
    },
    {
      "cell_type": "code",
      "execution_count": 7,
      "metadata": {
        "colab": {
          "base_uri": "https://localhost:8080/"
        },
        "id": "HKNhJGH4K1pT",
        "outputId": "4c3e7c1d-966e-483a-f4c9-e047a4c6e12e"
      },
      "outputs": [
        {
          "name": "stderr",
          "output_type": "stream",
          "text": [
            "/tmp/ipykernel_23371/3422481942.py:2: FutureWarning: Downcasting behavior in `replace` is deprecated and will be removed in a future version. To retain the old behavior, explicitly call `result.infer_objects(copy=False)`. To opt-in to the future behavior, set `pd.set_option('future.no_silent_downcasting', True)`\n",
            "  df_final = df_final.replace({\n"
          ]
        }
      ],
      "source": [
        "# Substituir valores textuais por binários\n",
        "df_final = df_final.replace({\n",
        "    'Yes': 1,\n",
        "    'No': 0,\n",
        "    'Sim': 1,\n",
        "    'Nao': 0\n",
        "})"
      ]
    },
    {
      "cell_type": "code",
      "execution_count": 8,
      "metadata": {
        "id": "opphmNaDC_wR"
      },
      "outputs": [],
      "source": [
        "# Criar a coluna 'Contas_Diarias'\n",
        "df_final['Contas_Diarias'] = df_final['Valor_mensal'] / 30"
      ]
    },
    {
      "cell_type": "markdown",
      "metadata": {
        "id": "T5hMDU6Qa0aP"
      },
      "source": [
        "Foi criada a função formatar_valores() para realizar a padronização e limpeza dos dados textuais no DataFrame. Para todas as colunas do tipo texto (object)"
      ]
    },
    {
      "cell_type": "code",
      "execution_count": 9,
      "metadata": {
        "id": "-9gQhLXLOOnh"
      },
      "outputs": [],
      "source": [
        "def formatar_valores(df_final):\n",
        "    for coluna in df_final.columns:\n",
        "        if df_final[coluna].dtype == 'object':\n",
        "            df_final[coluna] = df_final[coluna].str.strip()  # remove espaços\n",
        "            df_final[coluna] = df_final[coluna].str.lower()  # minúsculas\n",
        "            df_final[coluna] = df_final[coluna].replace({\n",
        "                '': np.nan, 'n/a': np.nan, 'null': np.nan\n",
        "            })"
      ]
    },
    {
      "cell_type": "code",
      "execution_count": 10,
      "metadata": {
        "colab": {
          "base_uri": "https://localhost:8080/"
        },
        "id": "Fr_YsOnmNnOh",
        "outputId": "ff1743ea-2532-40e0-972a-46079c6a1615"
      },
      "outputs": [
        {
          "name": "stdout",
          "output_type": "stream",
          "text": [
            "<class 'pandas.core.frame.DataFrame'>\n",
            "RangeIndex: 7267 entries, 0 to 7266\n",
            "Data columns (total 22 columns):\n",
            " #   Column              Non-Null Count  Dtype  \n",
            "---  ------              --------------  -----  \n",
            " 0   ID_cliente          7267 non-null   object \n",
            " 1   Cancelamento        7267 non-null   object \n",
            " 2   Genero              7267 non-null   object \n",
            " 3   Idoso               7267 non-null   int64  \n",
            " 4   Tem_parceiro        7267 non-null   int64  \n",
            " 5   Tem_dependentes     7267 non-null   int64  \n",
            " 6   Meses_com_empresa   7267 non-null   int64  \n",
            " 7   Servico_telefonico  7267 non-null   int64  \n",
            " 8   Multiplas_linhas    7267 non-null   object \n",
            " 9   Tipo_internet       7267 non-null   object \n",
            " 10  Seguranca_online    7267 non-null   object \n",
            " 11  Backup_online       7267 non-null   object \n",
            " 12  Protecao_aparelho   7267 non-null   object \n",
            " 13  Suporte_tecnico     7267 non-null   object \n",
            " 14  Streaming_TV        7267 non-null   object \n",
            " 15  Streaming_filmes    7267 non-null   object \n",
            " 16  Tipo_contrato       7267 non-null   object \n",
            " 17  Fatura_digital      7267 non-null   int64  \n",
            " 18  Forma_pagamento     7267 non-null   object \n",
            " 19  Valor_mensal        7267 non-null   float64\n",
            " 20  Valor_total         7267 non-null   object \n",
            " 21  Contas_Diarias      7267 non-null   float64\n",
            "dtypes: float64(2), int64(6), object(14)\n",
            "memory usage: 1.2+ MB\n"
          ]
        }
      ],
      "source": [
        "df_final.info()"
      ]
    },
    {
      "cell_type": "code",
      "execution_count": 11,
      "metadata": {
        "colab": {
          "base_uri": "https://localhost:8080/",
          "height": 325
        },
        "id": "HUgt-rI0sRFo",
        "outputId": "ff833892-dff1-46ae-9a0a-8e4704e59795"
      },
      "outputs": [
        {
          "data": {
            "text/html": [
              "<div>\n",
              "<style scoped>\n",
              "    .dataframe tbody tr th:only-of-type {\n",
              "        vertical-align: middle;\n",
              "    }\n",
              "\n",
              "    .dataframe tbody tr th {\n",
              "        vertical-align: top;\n",
              "    }\n",
              "\n",
              "    .dataframe thead th {\n",
              "        text-align: right;\n",
              "    }\n",
              "</style>\n",
              "<table border=\"1\" class=\"dataframe\">\n",
              "  <thead>\n",
              "    <tr style=\"text-align: right;\">\n",
              "      <th></th>\n",
              "      <th>ID_cliente</th>\n",
              "      <th>Cancelamento</th>\n",
              "      <th>Genero</th>\n",
              "      <th>Idoso</th>\n",
              "      <th>Tem_parceiro</th>\n",
              "      <th>Tem_dependentes</th>\n",
              "      <th>Meses_com_empresa</th>\n",
              "      <th>Servico_telefonico</th>\n",
              "      <th>Multiplas_linhas</th>\n",
              "      <th>Tipo_internet</th>\n",
              "      <th>...</th>\n",
              "      <th>Protecao_aparelho</th>\n",
              "      <th>Suporte_tecnico</th>\n",
              "      <th>Streaming_TV</th>\n",
              "      <th>Streaming_filmes</th>\n",
              "      <th>Tipo_contrato</th>\n",
              "      <th>Fatura_digital</th>\n",
              "      <th>Forma_pagamento</th>\n",
              "      <th>Valor_mensal</th>\n",
              "      <th>Valor_total</th>\n",
              "      <th>Contas_Diarias</th>\n",
              "    </tr>\n",
              "  </thead>\n",
              "  <tbody>\n",
              "    <tr>\n",
              "      <th>0</th>\n",
              "      <td>0002-ORFBO</td>\n",
              "      <td>0</td>\n",
              "      <td>Female</td>\n",
              "      <td>0</td>\n",
              "      <td>1</td>\n",
              "      <td>1</td>\n",
              "      <td>9</td>\n",
              "      <td>1</td>\n",
              "      <td>0</td>\n",
              "      <td>DSL</td>\n",
              "      <td>...</td>\n",
              "      <td>0</td>\n",
              "      <td>1</td>\n",
              "      <td>1</td>\n",
              "      <td>0</td>\n",
              "      <td>One year</td>\n",
              "      <td>1</td>\n",
              "      <td>Mailed check</td>\n",
              "      <td>65.6</td>\n",
              "      <td>593.3</td>\n",
              "      <td>2.186667</td>\n",
              "    </tr>\n",
              "    <tr>\n",
              "      <th>1</th>\n",
              "      <td>0003-MKNFE</td>\n",
              "      <td>0</td>\n",
              "      <td>Male</td>\n",
              "      <td>0</td>\n",
              "      <td>0</td>\n",
              "      <td>0</td>\n",
              "      <td>9</td>\n",
              "      <td>1</td>\n",
              "      <td>1</td>\n",
              "      <td>DSL</td>\n",
              "      <td>...</td>\n",
              "      <td>0</td>\n",
              "      <td>0</td>\n",
              "      <td>0</td>\n",
              "      <td>1</td>\n",
              "      <td>Month-to-month</td>\n",
              "      <td>0</td>\n",
              "      <td>Mailed check</td>\n",
              "      <td>59.9</td>\n",
              "      <td>542.4</td>\n",
              "      <td>1.996667</td>\n",
              "    </tr>\n",
              "    <tr>\n",
              "      <th>2</th>\n",
              "      <td>0004-TLHLJ</td>\n",
              "      <td>1</td>\n",
              "      <td>Male</td>\n",
              "      <td>0</td>\n",
              "      <td>0</td>\n",
              "      <td>0</td>\n",
              "      <td>4</td>\n",
              "      <td>1</td>\n",
              "      <td>0</td>\n",
              "      <td>Fiber optic</td>\n",
              "      <td>...</td>\n",
              "      <td>1</td>\n",
              "      <td>0</td>\n",
              "      <td>0</td>\n",
              "      <td>0</td>\n",
              "      <td>Month-to-month</td>\n",
              "      <td>1</td>\n",
              "      <td>Electronic check</td>\n",
              "      <td>73.9</td>\n",
              "      <td>280.85</td>\n",
              "      <td>2.463333</td>\n",
              "    </tr>\n",
              "    <tr>\n",
              "      <th>3</th>\n",
              "      <td>0011-IGKFF</td>\n",
              "      <td>1</td>\n",
              "      <td>Male</td>\n",
              "      <td>1</td>\n",
              "      <td>1</td>\n",
              "      <td>0</td>\n",
              "      <td>13</td>\n",
              "      <td>1</td>\n",
              "      <td>0</td>\n",
              "      <td>Fiber optic</td>\n",
              "      <td>...</td>\n",
              "      <td>1</td>\n",
              "      <td>0</td>\n",
              "      <td>1</td>\n",
              "      <td>1</td>\n",
              "      <td>Month-to-month</td>\n",
              "      <td>1</td>\n",
              "      <td>Electronic check</td>\n",
              "      <td>98.0</td>\n",
              "      <td>1237.85</td>\n",
              "      <td>3.266667</td>\n",
              "    </tr>\n",
              "    <tr>\n",
              "      <th>4</th>\n",
              "      <td>0013-EXCHZ</td>\n",
              "      <td>1</td>\n",
              "      <td>Female</td>\n",
              "      <td>1</td>\n",
              "      <td>1</td>\n",
              "      <td>0</td>\n",
              "      <td>3</td>\n",
              "      <td>1</td>\n",
              "      <td>0</td>\n",
              "      <td>Fiber optic</td>\n",
              "      <td>...</td>\n",
              "      <td>0</td>\n",
              "      <td>1</td>\n",
              "      <td>1</td>\n",
              "      <td>0</td>\n",
              "      <td>Month-to-month</td>\n",
              "      <td>1</td>\n",
              "      <td>Mailed check</td>\n",
              "      <td>83.9</td>\n",
              "      <td>267.4</td>\n",
              "      <td>2.796667</td>\n",
              "    </tr>\n",
              "  </tbody>\n",
              "</table>\n",
              "<p>5 rows × 22 columns</p>\n",
              "</div>"
            ],
            "text/plain": [
              "   ID_cliente Cancelamento  Genero  Idoso  Tem_parceiro  Tem_dependentes  \\\n",
              "0  0002-ORFBO            0  Female      0             1                1   \n",
              "1  0003-MKNFE            0    Male      0             0                0   \n",
              "2  0004-TLHLJ            1    Male      0             0                0   \n",
              "3  0011-IGKFF            1    Male      1             1                0   \n",
              "4  0013-EXCHZ            1  Female      1             1                0   \n",
              "\n",
              "   Meses_com_empresa  Servico_telefonico Multiplas_linhas Tipo_internet  ...  \\\n",
              "0                  9                   1                0           DSL  ...   \n",
              "1                  9                   1                1           DSL  ...   \n",
              "2                  4                   1                0   Fiber optic  ...   \n",
              "3                 13                   1                0   Fiber optic  ...   \n",
              "4                  3                   1                0   Fiber optic  ...   \n",
              "\n",
              "  Protecao_aparelho Suporte_tecnico Streaming_TV Streaming_filmes  \\\n",
              "0                 0               1            1                0   \n",
              "1                 0               0            0                1   \n",
              "2                 1               0            0                0   \n",
              "3                 1               0            1                1   \n",
              "4                 0               1            1                0   \n",
              "\n",
              "    Tipo_contrato Fatura_digital   Forma_pagamento  Valor_mensal Valor_total  \\\n",
              "0        One year              1      Mailed check          65.6       593.3   \n",
              "1  Month-to-month              0      Mailed check          59.9       542.4   \n",
              "2  Month-to-month              1  Electronic check          73.9      280.85   \n",
              "3  Month-to-month              1  Electronic check          98.0     1237.85   \n",
              "4  Month-to-month              1      Mailed check          83.9       267.4   \n",
              "\n",
              "   Contas_Diarias  \n",
              "0        2.186667  \n",
              "1        1.996667  \n",
              "2        2.463333  \n",
              "3        3.266667  \n",
              "4        2.796667  \n",
              "\n",
              "[5 rows x 22 columns]"
            ]
          },
          "execution_count": 11,
          "metadata": {},
          "output_type": "execute_result"
        }
      ],
      "source": [
        "df_final.head()"
      ]
    },
    {
      "cell_type": "markdown",
      "metadata": {
        "id": "6XnTC2NTmMRL"
      },
      "source": [
        "#📊 Carga e análise"
      ]
    },
    {
      "cell_type": "code",
      "execution_count": 12,
      "metadata": {
        "colab": {
          "base_uri": "https://localhost:8080/",
          "height": 461
        },
        "id": "1jgUnLqTmPdd",
        "outputId": "0b06ee52-411c-4617-f89b-5137555107fd"
      },
      "outputs": [
        {
          "data": {
            "text/html": [
              "<div>\n",
              "<style scoped>\n",
              "    .dataframe tbody tr th:only-of-type {\n",
              "        vertical-align: middle;\n",
              "    }\n",
              "\n",
              "    .dataframe tbody tr th {\n",
              "        vertical-align: top;\n",
              "    }\n",
              "\n",
              "    .dataframe thead th {\n",
              "        text-align: right;\n",
              "    }\n",
              "</style>\n",
              "<table border=\"1\" class=\"dataframe\">\n",
              "  <thead>\n",
              "    <tr style=\"text-align: right;\">\n",
              "      <th></th>\n",
              "      <th>ID_cliente</th>\n",
              "      <th>Cancelamento</th>\n",
              "      <th>Genero</th>\n",
              "      <th>Idoso</th>\n",
              "      <th>Tem_parceiro</th>\n",
              "      <th>Tem_dependentes</th>\n",
              "      <th>Meses_com_empresa</th>\n",
              "      <th>Servico_telefonico</th>\n",
              "      <th>Multiplas_linhas</th>\n",
              "      <th>Tipo_internet</th>\n",
              "      <th>...</th>\n",
              "      <th>Protecao_aparelho</th>\n",
              "      <th>Suporte_tecnico</th>\n",
              "      <th>Streaming_TV</th>\n",
              "      <th>Streaming_filmes</th>\n",
              "      <th>Tipo_contrato</th>\n",
              "      <th>Fatura_digital</th>\n",
              "      <th>Forma_pagamento</th>\n",
              "      <th>Valor_mensal</th>\n",
              "      <th>Valor_total</th>\n",
              "      <th>Contas_Diarias</th>\n",
              "    </tr>\n",
              "  </thead>\n",
              "  <tbody>\n",
              "    <tr>\n",
              "      <th>count</th>\n",
              "      <td>7267</td>\n",
              "      <td>7267.0</td>\n",
              "      <td>7267</td>\n",
              "      <td>7267.000000</td>\n",
              "      <td>7267.000000</td>\n",
              "      <td>7267.000000</td>\n",
              "      <td>7267.000000</td>\n",
              "      <td>7267.000000</td>\n",
              "      <td>7267.0</td>\n",
              "      <td>7267</td>\n",
              "      <td>...</td>\n",
              "      <td>7267.0</td>\n",
              "      <td>7267.0</td>\n",
              "      <td>7267.0</td>\n",
              "      <td>7267.0</td>\n",
              "      <td>7267</td>\n",
              "      <td>7267.000000</td>\n",
              "      <td>7267</td>\n",
              "      <td>7267.000000</td>\n",
              "      <td>7267</td>\n",
              "      <td>7267.000000</td>\n",
              "    </tr>\n",
              "    <tr>\n",
              "      <th>unique</th>\n",
              "      <td>7267</td>\n",
              "      <td>3.0</td>\n",
              "      <td>2</td>\n",
              "      <td>NaN</td>\n",
              "      <td>NaN</td>\n",
              "      <td>NaN</td>\n",
              "      <td>NaN</td>\n",
              "      <td>NaN</td>\n",
              "      <td>3.0</td>\n",
              "      <td>3</td>\n",
              "      <td>...</td>\n",
              "      <td>3.0</td>\n",
              "      <td>3.0</td>\n",
              "      <td>3.0</td>\n",
              "      <td>3.0</td>\n",
              "      <td>3</td>\n",
              "      <td>NaN</td>\n",
              "      <td>4</td>\n",
              "      <td>NaN</td>\n",
              "      <td>6531</td>\n",
              "      <td>NaN</td>\n",
              "    </tr>\n",
              "    <tr>\n",
              "      <th>top</th>\n",
              "      <td>0002-ORFBO</td>\n",
              "      <td>0.0</td>\n",
              "      <td>Male</td>\n",
              "      <td>NaN</td>\n",
              "      <td>NaN</td>\n",
              "      <td>NaN</td>\n",
              "      <td>NaN</td>\n",
              "      <td>NaN</td>\n",
              "      <td>0.0</td>\n",
              "      <td>Fiber optic</td>\n",
              "      <td>...</td>\n",
              "      <td>0.0</td>\n",
              "      <td>0.0</td>\n",
              "      <td>0.0</td>\n",
              "      <td>0.0</td>\n",
              "      <td>Month-to-month</td>\n",
              "      <td>NaN</td>\n",
              "      <td>Electronic check</td>\n",
              "      <td>NaN</td>\n",
              "      <td>20.2</td>\n",
              "      <td>NaN</td>\n",
              "    </tr>\n",
              "    <tr>\n",
              "      <th>freq</th>\n",
              "      <td>1</td>\n",
              "      <td>5174.0</td>\n",
              "      <td>3675</td>\n",
              "      <td>NaN</td>\n",
              "      <td>NaN</td>\n",
              "      <td>NaN</td>\n",
              "      <td>NaN</td>\n",
              "      <td>NaN</td>\n",
              "      <td>3495.0</td>\n",
              "      <td>3198</td>\n",
              "      <td>...</td>\n",
              "      <td>3195.0</td>\n",
              "      <td>3582.0</td>\n",
              "      <td>2896.0</td>\n",
              "      <td>2870.0</td>\n",
              "      <td>4005</td>\n",
              "      <td>NaN</td>\n",
              "      <td>2445</td>\n",
              "      <td>NaN</td>\n",
              "      <td>11</td>\n",
              "      <td>NaN</td>\n",
              "    </tr>\n",
              "    <tr>\n",
              "      <th>mean</th>\n",
              "      <td>NaN</td>\n",
              "      <td>NaN</td>\n",
              "      <td>NaN</td>\n",
              "      <td>0.162653</td>\n",
              "      <td>0.484106</td>\n",
              "      <td>0.300124</td>\n",
              "      <td>32.346498</td>\n",
              "      <td>0.902711</td>\n",
              "      <td>NaN</td>\n",
              "      <td>NaN</td>\n",
              "      <td>...</td>\n",
              "      <td>NaN</td>\n",
              "      <td>NaN</td>\n",
              "      <td>NaN</td>\n",
              "      <td>NaN</td>\n",
              "      <td>NaN</td>\n",
              "      <td>0.593230</td>\n",
              "      <td>NaN</td>\n",
              "      <td>64.720098</td>\n",
              "      <td>NaN</td>\n",
              "      <td>2.157337</td>\n",
              "    </tr>\n",
              "    <tr>\n",
              "      <th>std</th>\n",
              "      <td>NaN</td>\n",
              "      <td>NaN</td>\n",
              "      <td>NaN</td>\n",
              "      <td>0.369074</td>\n",
              "      <td>0.499782</td>\n",
              "      <td>0.458343</td>\n",
              "      <td>24.571773</td>\n",
              "      <td>0.296371</td>\n",
              "      <td>NaN</td>\n",
              "      <td>NaN</td>\n",
              "      <td>...</td>\n",
              "      <td>NaN</td>\n",
              "      <td>NaN</td>\n",
              "      <td>NaN</td>\n",
              "      <td>NaN</td>\n",
              "      <td>NaN</td>\n",
              "      <td>0.491265</td>\n",
              "      <td>NaN</td>\n",
              "      <td>30.129572</td>\n",
              "      <td>NaN</td>\n",
              "      <td>1.004319</td>\n",
              "    </tr>\n",
              "    <tr>\n",
              "      <th>min</th>\n",
              "      <td>NaN</td>\n",
              "      <td>NaN</td>\n",
              "      <td>NaN</td>\n",
              "      <td>0.000000</td>\n",
              "      <td>0.000000</td>\n",
              "      <td>0.000000</td>\n",
              "      <td>0.000000</td>\n",
              "      <td>0.000000</td>\n",
              "      <td>NaN</td>\n",
              "      <td>NaN</td>\n",
              "      <td>...</td>\n",
              "      <td>NaN</td>\n",
              "      <td>NaN</td>\n",
              "      <td>NaN</td>\n",
              "      <td>NaN</td>\n",
              "      <td>NaN</td>\n",
              "      <td>0.000000</td>\n",
              "      <td>NaN</td>\n",
              "      <td>18.250000</td>\n",
              "      <td>NaN</td>\n",
              "      <td>0.608333</td>\n",
              "    </tr>\n",
              "    <tr>\n",
              "      <th>25%</th>\n",
              "      <td>NaN</td>\n",
              "      <td>NaN</td>\n",
              "      <td>NaN</td>\n",
              "      <td>0.000000</td>\n",
              "      <td>0.000000</td>\n",
              "      <td>0.000000</td>\n",
              "      <td>9.000000</td>\n",
              "      <td>1.000000</td>\n",
              "      <td>NaN</td>\n",
              "      <td>NaN</td>\n",
              "      <td>...</td>\n",
              "      <td>NaN</td>\n",
              "      <td>NaN</td>\n",
              "      <td>NaN</td>\n",
              "      <td>NaN</td>\n",
              "      <td>NaN</td>\n",
              "      <td>0.000000</td>\n",
              "      <td>NaN</td>\n",
              "      <td>35.425000</td>\n",
              "      <td>NaN</td>\n",
              "      <td>1.180833</td>\n",
              "    </tr>\n",
              "    <tr>\n",
              "      <th>50%</th>\n",
              "      <td>NaN</td>\n",
              "      <td>NaN</td>\n",
              "      <td>NaN</td>\n",
              "      <td>0.000000</td>\n",
              "      <td>0.000000</td>\n",
              "      <td>0.000000</td>\n",
              "      <td>29.000000</td>\n",
              "      <td>1.000000</td>\n",
              "      <td>NaN</td>\n",
              "      <td>NaN</td>\n",
              "      <td>...</td>\n",
              "      <td>NaN</td>\n",
              "      <td>NaN</td>\n",
              "      <td>NaN</td>\n",
              "      <td>NaN</td>\n",
              "      <td>NaN</td>\n",
              "      <td>1.000000</td>\n",
              "      <td>NaN</td>\n",
              "      <td>70.300000</td>\n",
              "      <td>NaN</td>\n",
              "      <td>2.343333</td>\n",
              "    </tr>\n",
              "    <tr>\n",
              "      <th>75%</th>\n",
              "      <td>NaN</td>\n",
              "      <td>NaN</td>\n",
              "      <td>NaN</td>\n",
              "      <td>0.000000</td>\n",
              "      <td>1.000000</td>\n",
              "      <td>1.000000</td>\n",
              "      <td>55.000000</td>\n",
              "      <td>1.000000</td>\n",
              "      <td>NaN</td>\n",
              "      <td>NaN</td>\n",
              "      <td>...</td>\n",
              "      <td>NaN</td>\n",
              "      <td>NaN</td>\n",
              "      <td>NaN</td>\n",
              "      <td>NaN</td>\n",
              "      <td>NaN</td>\n",
              "      <td>1.000000</td>\n",
              "      <td>NaN</td>\n",
              "      <td>89.875000</td>\n",
              "      <td>NaN</td>\n",
              "      <td>2.995833</td>\n",
              "    </tr>\n",
              "    <tr>\n",
              "      <th>max</th>\n",
              "      <td>NaN</td>\n",
              "      <td>NaN</td>\n",
              "      <td>NaN</td>\n",
              "      <td>1.000000</td>\n",
              "      <td>1.000000</td>\n",
              "      <td>1.000000</td>\n",
              "      <td>72.000000</td>\n",
              "      <td>1.000000</td>\n",
              "      <td>NaN</td>\n",
              "      <td>NaN</td>\n",
              "      <td>...</td>\n",
              "      <td>NaN</td>\n",
              "      <td>NaN</td>\n",
              "      <td>NaN</td>\n",
              "      <td>NaN</td>\n",
              "      <td>NaN</td>\n",
              "      <td>1.000000</td>\n",
              "      <td>NaN</td>\n",
              "      <td>118.750000</td>\n",
              "      <td>NaN</td>\n",
              "      <td>3.958333</td>\n",
              "    </tr>\n",
              "  </tbody>\n",
              "</table>\n",
              "<p>11 rows × 22 columns</p>\n",
              "</div>"
            ],
            "text/plain": [
              "        ID_cliente  Cancelamento Genero        Idoso  Tem_parceiro  \\\n",
              "count         7267        7267.0   7267  7267.000000   7267.000000   \n",
              "unique        7267           3.0      2          NaN           NaN   \n",
              "top     0002-ORFBO           0.0   Male          NaN           NaN   \n",
              "freq             1        5174.0   3675          NaN           NaN   \n",
              "mean           NaN           NaN    NaN     0.162653      0.484106   \n",
              "std            NaN           NaN    NaN     0.369074      0.499782   \n",
              "min            NaN           NaN    NaN     0.000000      0.000000   \n",
              "25%            NaN           NaN    NaN     0.000000      0.000000   \n",
              "50%            NaN           NaN    NaN     0.000000      0.000000   \n",
              "75%            NaN           NaN    NaN     0.000000      1.000000   \n",
              "max            NaN           NaN    NaN     1.000000      1.000000   \n",
              "\n",
              "        Tem_dependentes  Meses_com_empresa  Servico_telefonico  \\\n",
              "count       7267.000000        7267.000000         7267.000000   \n",
              "unique              NaN                NaN                 NaN   \n",
              "top                 NaN                NaN                 NaN   \n",
              "freq                NaN                NaN                 NaN   \n",
              "mean           0.300124          32.346498            0.902711   \n",
              "std            0.458343          24.571773            0.296371   \n",
              "min            0.000000           0.000000            0.000000   \n",
              "25%            0.000000           9.000000            1.000000   \n",
              "50%            0.000000          29.000000            1.000000   \n",
              "75%            1.000000          55.000000            1.000000   \n",
              "max            1.000000          72.000000            1.000000   \n",
              "\n",
              "        Multiplas_linhas Tipo_internet  ...  Protecao_aparelho  \\\n",
              "count             7267.0          7267  ...             7267.0   \n",
              "unique               3.0             3  ...                3.0   \n",
              "top                  0.0   Fiber optic  ...                0.0   \n",
              "freq              3495.0          3198  ...             3195.0   \n",
              "mean                 NaN           NaN  ...                NaN   \n",
              "std                  NaN           NaN  ...                NaN   \n",
              "min                  NaN           NaN  ...                NaN   \n",
              "25%                  NaN           NaN  ...                NaN   \n",
              "50%                  NaN           NaN  ...                NaN   \n",
              "75%                  NaN           NaN  ...                NaN   \n",
              "max                  NaN           NaN  ...                NaN   \n",
              "\n",
              "        Suporte_tecnico  Streaming_TV  Streaming_filmes   Tipo_contrato  \\\n",
              "count            7267.0        7267.0            7267.0            7267   \n",
              "unique              3.0           3.0               3.0               3   \n",
              "top                 0.0           0.0               0.0  Month-to-month   \n",
              "freq             3582.0        2896.0            2870.0            4005   \n",
              "mean                NaN           NaN               NaN             NaN   \n",
              "std                 NaN           NaN               NaN             NaN   \n",
              "min                 NaN           NaN               NaN             NaN   \n",
              "25%                 NaN           NaN               NaN             NaN   \n",
              "50%                 NaN           NaN               NaN             NaN   \n",
              "75%                 NaN           NaN               NaN             NaN   \n",
              "max                 NaN           NaN               NaN             NaN   \n",
              "\n",
              "        Fatura_digital   Forma_pagamento  Valor_mensal Valor_total  \\\n",
              "count      7267.000000              7267   7267.000000        7267   \n",
              "unique             NaN                 4           NaN        6531   \n",
              "top                NaN  Electronic check           NaN        20.2   \n",
              "freq               NaN              2445           NaN          11   \n",
              "mean          0.593230               NaN     64.720098         NaN   \n",
              "std           0.491265               NaN     30.129572         NaN   \n",
              "min           0.000000               NaN     18.250000         NaN   \n",
              "25%           0.000000               NaN     35.425000         NaN   \n",
              "50%           1.000000               NaN     70.300000         NaN   \n",
              "75%           1.000000               NaN     89.875000         NaN   \n",
              "max           1.000000               NaN    118.750000         NaN   \n",
              "\n",
              "        Contas_Diarias  \n",
              "count      7267.000000  \n",
              "unique             NaN  \n",
              "top                NaN  \n",
              "freq               NaN  \n",
              "mean          2.157337  \n",
              "std           1.004319  \n",
              "min           0.608333  \n",
              "25%           1.180833  \n",
              "50%           2.343333  \n",
              "75%           2.995833  \n",
              "max           3.958333  \n",
              "\n",
              "[11 rows x 22 columns]"
            ]
          },
          "execution_count": 12,
          "metadata": {},
          "output_type": "execute_result"
        }
      ],
      "source": [
        "# Estatísticas descritivas gerais\n",
        "df_final.describe(include='all')"
      ]
    },
    {
      "cell_type": "code",
      "execution_count": 13,
      "metadata": {
        "colab": {
          "base_uri": "https://localhost:8080/",
          "height": 774
        },
        "id": "_g6aCkaoifno",
        "outputId": "eeaf07d5-9e5f-4e5b-d9fa-57d7584f206e"
      },
      "outputs": [
        {
          "data": {
            "text/plain": [
              "ID_cliente            0\n",
              "Cancelamento          0\n",
              "Genero                0\n",
              "Idoso                 0\n",
              "Tem_parceiro          0\n",
              "Tem_dependentes       0\n",
              "Meses_com_empresa     0\n",
              "Servico_telefonico    0\n",
              "Multiplas_linhas      0\n",
              "Tipo_internet         0\n",
              "Seguranca_online      0\n",
              "Backup_online         0\n",
              "Protecao_aparelho     0\n",
              "Suporte_tecnico       0\n",
              "Streaming_TV          0\n",
              "Streaming_filmes      0\n",
              "Tipo_contrato         0\n",
              "Fatura_digital        0\n",
              "Forma_pagamento       0\n",
              "Valor_mensal          0\n",
              "Valor_total           0\n",
              "Contas_Diarias        0\n",
              "dtype: int64"
            ]
          },
          "execution_count": 13,
          "metadata": {},
          "output_type": "execute_result"
        }
      ],
      "source": [
        "# Verificar valores ausentes\n",
        "df_final.isnull().sum()"
      ]
    },
    {
      "cell_type": "code",
      "execution_count": 14,
      "metadata": {
        "colab": {
          "base_uri": "https://localhost:8080/",
          "height": 300
        },
        "id": "2iGq2JiAiffp",
        "outputId": "31711d93-5769-4ccf-d6fa-0c5baaa570cf"
      },
      "outputs": [
        {
          "data": {
            "text/html": [
              "<div>\n",
              "<style scoped>\n",
              "    .dataframe tbody tr th:only-of-type {\n",
              "        vertical-align: middle;\n",
              "    }\n",
              "\n",
              "    .dataframe tbody tr th {\n",
              "        vertical-align: top;\n",
              "    }\n",
              "\n",
              "    .dataframe thead th {\n",
              "        text-align: right;\n",
              "    }\n",
              "</style>\n",
              "<table border=\"1\" class=\"dataframe\">\n",
              "  <thead>\n",
              "    <tr style=\"text-align: right;\">\n",
              "      <th></th>\n",
              "      <th>Idoso</th>\n",
              "      <th>Tem_parceiro</th>\n",
              "      <th>Tem_dependentes</th>\n",
              "      <th>Meses_com_empresa</th>\n",
              "      <th>Servico_telefonico</th>\n",
              "      <th>Fatura_digital</th>\n",
              "      <th>Valor_mensal</th>\n",
              "      <th>Contas_Diarias</th>\n",
              "    </tr>\n",
              "  </thead>\n",
              "  <tbody>\n",
              "    <tr>\n",
              "      <th>count</th>\n",
              "      <td>7267.000000</td>\n",
              "      <td>7267.000000</td>\n",
              "      <td>7267.000000</td>\n",
              "      <td>7267.000000</td>\n",
              "      <td>7267.000000</td>\n",
              "      <td>7267.000000</td>\n",
              "      <td>7267.000000</td>\n",
              "      <td>7267.000000</td>\n",
              "    </tr>\n",
              "    <tr>\n",
              "      <th>mean</th>\n",
              "      <td>0.162653</td>\n",
              "      <td>0.484106</td>\n",
              "      <td>0.300124</td>\n",
              "      <td>32.346498</td>\n",
              "      <td>0.902711</td>\n",
              "      <td>0.593230</td>\n",
              "      <td>64.720098</td>\n",
              "      <td>2.157337</td>\n",
              "    </tr>\n",
              "    <tr>\n",
              "      <th>std</th>\n",
              "      <td>0.369074</td>\n",
              "      <td>0.499782</td>\n",
              "      <td>0.458343</td>\n",
              "      <td>24.571773</td>\n",
              "      <td>0.296371</td>\n",
              "      <td>0.491265</td>\n",
              "      <td>30.129572</td>\n",
              "      <td>1.004319</td>\n",
              "    </tr>\n",
              "    <tr>\n",
              "      <th>min</th>\n",
              "      <td>0.000000</td>\n",
              "      <td>0.000000</td>\n",
              "      <td>0.000000</td>\n",
              "      <td>0.000000</td>\n",
              "      <td>0.000000</td>\n",
              "      <td>0.000000</td>\n",
              "      <td>18.250000</td>\n",
              "      <td>0.608333</td>\n",
              "    </tr>\n",
              "    <tr>\n",
              "      <th>25%</th>\n",
              "      <td>0.000000</td>\n",
              "      <td>0.000000</td>\n",
              "      <td>0.000000</td>\n",
              "      <td>9.000000</td>\n",
              "      <td>1.000000</td>\n",
              "      <td>0.000000</td>\n",
              "      <td>35.425000</td>\n",
              "      <td>1.180833</td>\n",
              "    </tr>\n",
              "    <tr>\n",
              "      <th>50%</th>\n",
              "      <td>0.000000</td>\n",
              "      <td>0.000000</td>\n",
              "      <td>0.000000</td>\n",
              "      <td>29.000000</td>\n",
              "      <td>1.000000</td>\n",
              "      <td>1.000000</td>\n",
              "      <td>70.300000</td>\n",
              "      <td>2.343333</td>\n",
              "    </tr>\n",
              "    <tr>\n",
              "      <th>75%</th>\n",
              "      <td>0.000000</td>\n",
              "      <td>1.000000</td>\n",
              "      <td>1.000000</td>\n",
              "      <td>55.000000</td>\n",
              "      <td>1.000000</td>\n",
              "      <td>1.000000</td>\n",
              "      <td>89.875000</td>\n",
              "      <td>2.995833</td>\n",
              "    </tr>\n",
              "    <tr>\n",
              "      <th>max</th>\n",
              "      <td>1.000000</td>\n",
              "      <td>1.000000</td>\n",
              "      <td>1.000000</td>\n",
              "      <td>72.000000</td>\n",
              "      <td>1.000000</td>\n",
              "      <td>1.000000</td>\n",
              "      <td>118.750000</td>\n",
              "      <td>3.958333</td>\n",
              "    </tr>\n",
              "  </tbody>\n",
              "</table>\n",
              "</div>"
            ],
            "text/plain": [
              "             Idoso  Tem_parceiro  Tem_dependentes  Meses_com_empresa  \\\n",
              "count  7267.000000   7267.000000      7267.000000        7267.000000   \n",
              "mean      0.162653      0.484106         0.300124          32.346498   \n",
              "std       0.369074      0.499782         0.458343          24.571773   \n",
              "min       0.000000      0.000000         0.000000           0.000000   \n",
              "25%       0.000000      0.000000         0.000000           9.000000   \n",
              "50%       0.000000      0.000000         0.000000          29.000000   \n",
              "75%       0.000000      1.000000         1.000000          55.000000   \n",
              "max       1.000000      1.000000         1.000000          72.000000   \n",
              "\n",
              "       Servico_telefonico  Fatura_digital  Valor_mensal  Contas_Diarias  \n",
              "count         7267.000000     7267.000000   7267.000000     7267.000000  \n",
              "mean             0.902711        0.593230     64.720098        2.157337  \n",
              "std              0.296371        0.491265     30.129572        1.004319  \n",
              "min              0.000000        0.000000     18.250000        0.608333  \n",
              "25%              1.000000        0.000000     35.425000        1.180833  \n",
              "50%              1.000000        1.000000     70.300000        2.343333  \n",
              "75%              1.000000        1.000000     89.875000        2.995833  \n",
              "max              1.000000        1.000000    118.750000        3.958333  "
            ]
          },
          "execution_count": 14,
          "metadata": {},
          "output_type": "execute_result"
        }
      ],
      "source": [
        "# Estatísticas descritivas específicas para colunas numéricas\n",
        "df_final.select_dtypes(include=['int64', 'float64']).describe()"
      ]
    },
    {
      "cell_type": "code",
      "execution_count": 15,
      "metadata": {
        "colab": {
          "base_uri": "https://localhost:8080/"
        },
        "id": "sIcVoQs_9smB",
        "outputId": "81e204a5-0709-4b0d-f32b-f9fb32087244"
      },
      "outputs": [
        {
          "name": "stdout",
          "output_type": "stream",
          "text": [
            "Proporção de evasão:\n",
            "Cancelamento\n",
            "0    0.74281\n",
            "1    0.25719\n",
            "Name: count, dtype: float64\n"
          ]
        },
        {
          "name": "stderr",
          "output_type": "stream",
          "text": [
            "/tmp/ipykernel_23371/1759231757.py:2: FutureWarning: Downcasting behavior in `replace` is deprecated and will be removed in a future version. To retain the old behavior, explicitly call `result.infer_objects(copy=False)`. To opt-in to the future behavior, set `pd.set_option('future.no_silent_downcasting', True)`\n",
            "  df_final['Cancelamento'] = df_final['Cancelamento'].replace('', np.nan)\n"
          ]
        }
      ],
      "source": [
        "# Substitui valores vazios por np.nan e depois por 0 (ou o valor que fizer sentido para você)\n",
        "df_final['Cancelamento'] = df_final['Cancelamento'].replace('', np.nan)\n",
        "df_final['Cancelamento'] = df_final['Cancelamento'].fillna(0)\n",
        "\n",
        "# Converte para inteiro\n",
        "df_final['Cancelamento'] = df_final['Cancelamento'].astype(int)\n",
        "\n",
        "# Agora calcula a contagem\n",
        "cancelamento = df_final['Cancelamento'].value_counts()\n",
        "\n",
        "# Exibir a proporção\n",
        "print(\"Proporção de evasão:\")\n",
        "print(cancelamento / cancelamento.sum())"
      ]
    },
    {
      "cell_type": "code",
      "execution_count": 16,
      "metadata": {
        "colab": {
          "base_uri": "https://localhost:8080/"
        },
        "id": "sElXa6Y39sZl",
        "outputId": "279e903f-10ae-47ac-bcab-4fdf6a2b1f94"
      },
      "outputs": [
        {
          "name": "stdout",
          "output_type": "stream",
          "text": [
            "📈 Média dos atributos numéricos:\n",
            "\n",
            "Cancelamento           0.257190\n",
            "Idoso                  0.162653\n",
            "Tem_parceiro           0.484106\n",
            "Tem_dependentes        0.300124\n",
            "Meses_com_empresa     32.346498\n",
            "Servico_telefonico     0.902711\n",
            "Fatura_digital         0.593230\n",
            "Valor_mensal          64.720098\n",
            "Contas_Diarias         2.157337\n",
            "dtype: float64\n",
            "\n",
            "📊 Mediana dos atributos numéricos:\n",
            "\n",
            "Cancelamento           0.000000\n",
            "Idoso                  0.000000\n",
            "Tem_parceiro           0.000000\n",
            "Tem_dependentes        0.000000\n",
            "Meses_com_empresa     29.000000\n",
            "Servico_telefonico     1.000000\n",
            "Fatura_digital         1.000000\n",
            "Valor_mensal          70.300000\n",
            "Contas_Diarias         2.343333\n",
            "dtype: float64\n"
          ]
        }
      ],
      "source": [
        "# Selecionar apenas as colunas numéricas\n",
        "colunas_numericas = df_final.select_dtypes(include=['int64', 'float64'])\n",
        "\n",
        "# Calcular média e mediana\n",
        "media = colunas_numericas.mean()\n",
        "mediana = colunas_numericas.median()\n",
        "\n",
        "# Exibir resultados\n",
        "print(\"📈 Média dos atributos numéricos:\\n\")\n",
        "print(media)\n",
        "\n",
        "print(\"\\n📊 Mediana dos atributos numéricos:\\n\")\n",
        "print(mediana)"
      ]
    },
    {
      "cell_type": "code",
      "execution_count": 17,
      "metadata": {
        "colab": {
          "base_uri": "https://localhost:8080/",
          "height": 578
        },
        "id": "9-REo52mKYj8",
        "outputId": "855f2d8a-f42f-4af4-d18f-de1b3650a64f"
      },
      "outputs": [
        {
          "data": {
            "image/png": "[encoded data removed]",
            "text/plain": [
              "<Figure size 1000x600 with 1 Axes>"
            ]
          },
          "metadata": {},
          "output_type": "display_data"
        }
      ],
      "source": [
        "# Criar figura\n",
        "fig, ax = plt.subplots(figsize=(10, 6))\n",
        "\n",
        "# Gráfico de barras com estilo moderno\n",
        "counts = df_final['Cancelamento'].value_counts()\n",
        "bars = ax.bar(['Permaneceu', 'Cancelou'], counts.values,\n",
        "              color=['#3498db', '#e74c3c'],\n",
        "              alpha=0.8,\n",
        "              linewidth=2)\n",
        "\n",
        "# Customização do estilo\n",
        "ax.set_title('Distribuição de Cancelamento',\n",
        "             fontsize=16,\n",
        "             fontweight='bold',\n",
        "             pad=20)\n",
        "\n",
        "ax.set_ylabel('Quantidade', fontsize=12)\n",
        "ax.set_xlabel('Status', fontsize=12)\n",
        "\n",
        "# Adicionar valores nas barras\n",
        "for bar in bars:\n",
        "    height = bar.get_height()\n",
        "    ax.text(bar.get_x() + bar.get_width()/2., height + 50,\n",
        "            f'{int(height)}',\n",
        "            ha='center', va='bottom', fontsize=12, fontweight='bold')\n",
        "\n",
        "# Remover bordas desnecessárias\n",
        "ax.spines['top'].set_visible(False)\n",
        "ax.spines['right'].set_visible(False)\n",
        "ax.spines['left'].set_color('#cccccc')\n",
        "ax.spines['bottom'].set_color('#cccccc')\n",
        "\n",
        "# Ajustar layout\n",
        "plt.tight_layout()\n",
        "plt.show()"
      ]
    },
    {
      "cell_type": "code",
      "execution_count": 18,
      "metadata": {
        "id": "9yjcPcKxseld"
      },
      "outputs": [],
      "source": [
        "def plot_taxa_cancelamento1(df_final):\n",
        "    # Variáveis a analisar (usando os nomes corretos das colunas)\n",
        "    variaveis = ['Genero', 'Tipo_contrato', 'Forma_pagamento', 'Tem_dependents', 'Tipo_internet']\n",
        "\n",
        "    # Calcular taxas de cancelamento\n",
        "    dados = []\n",
        "    for var in variaveis:\n",
        "        # Verificar se a coluna existe\n",
        "        if var not in df_final.columns:\n",
        "            print(f\"Aviso: Coluna '{var}' não encontrada no DataFrame\")\n",
        "            continue\n",
        "\n",
        "        taxa = df_final.groupby(var)['Cancelamento'].agg(['count', 'sum']).reset_index()\n",
        "        taxa['taxa'] = (taxa['sum'] / taxa['count']) * 100\n",
        "        taxa['categoria'] = taxa[var].astype(str)  # Converter para string aqui\n",
        "        # Substituir '0' por nome mais descritivo para Tipo_internet\n",
        "        if var == 'Tipo_internet':\n",
        "            taxa['categoria'] = taxa['categoria'].replace('0', 'Sem Tipo_internet')\n",
        "        taxa['variavel'] = var\n",
        "        dados.append(taxa[['categoria', 'taxa', 'variavel']])\n",
        "\n",
        "    if not dados:  # Se nenhuma variável foi encontrada\n",
        "        print(\"Erro: Nenhuma das variáveis especificadas foi encontrada no DataFrame\")\n",
        "        return\n",
        "\n",
        "    resumo = pd.concat(dados, ignore_index=True).sort_values('taxa')\n",
        "\n",
        "    # Encontrar destaque (maior taxa)\n",
        "    destaque = resumo.iloc[-1]\n",
        "\n",
        "    # Plot\n",
        "    fig, ax = plt.subplots(figsize=(12, 8))  # Aumentar tamanho para acomodar texto\n",
        "\n",
        "    # Criar paleta de cores\n",
        "    colors = sns.color_palette(\"dark:#5A9_r\", n_colors=len(resumo))\n",
        "    bars = ax.barh(resumo['categoria'], resumo['taxa'], color=colors)\n",
        "\n",
        "    # Texto nas barras\n",
        "    for bar, taxa in zip(bars, resumo['taxa']):\n",
        "        ax.text(bar.get_width() + 0.5, bar.get_y() + bar.get_height()/2,\n",
        "                f'{taxa:.2f}%', va='center', ha='left', fontsize=10, fontweight='bold')\n",
        "\n",
        "    # Texto explicativo no lado esquerdo\n",
        "    destaque_texto = (\n",
        "        f\"{destaque['taxa']:.2f}% dos cancelamentos ocorreram na categoria \"\n",
        "        f\"'{destaque['categoria']}' ({destaque['variavel']}).\\n\"\n",
        "        \"Essa categoria representa a maior taxa entre todas as avaliadas.\"\n",
        "    )\n",
        "    ax.text(0.40, 0.25, destaque_texto, transform=ax.transAxes, ha='left', va='bottom',\n",
        "            fontsize=10, color='white', bbox=dict(boxstyle=\"round,pad=0.3\",\n",
        "            facecolor='#232625', edgecolor='gray', alpha=0.9))\n",
        "\n",
        "    # Título e eixos\n",
        "    ax.set_title('Taxa de Cancelamento por Categoria', fontsize=14, weight='bold', pad=20)\n",
        "    ax.set_xlabel('Taxa (%)')\n",
        "    ax.set_ylabel('')\n",
        "    ax.set_xlim(0, resumo['taxa'].max() + 10)\n",
        "    ax.spines[['top', 'right']].set_visible(False)\n",
        "\n",
        "    plt.tight_layout()  # Remove o rect que deixava espaço no topo"
      ]
    },
    {
      "cell_type": "code",
      "execution_count": 19,
      "metadata": {
        "colab": {
          "base_uri": "https://localhost:8080/",
          "height": 651
        },
        "id": "JqP-t77tspPK",
        "outputId": "c74f93d0-385e-4ef3-fca0-cd65f8789450"
      },
      "outputs": [
        {
          "name": "stdout",
          "output_type": "stream",
          "text": [
            "Aviso: Coluna 'Tem_dependents' não encontrada no DataFrame\n"
          ]
        },
        {
          "data": {
            "image/png": "[encoded data removed]",
            "text/plain": [
              "<Figure size 1200x800 with 1 Axes>"
            ]
          },
          "metadata": {},
          "output_type": "display_data"
        }
      ],
      "source": [
        "plot_taxa_cancelamento1(df_final)"
      ]
    },
    {
      "cell_type": "code",
      "execution_count": 20,
      "metadata": {
        "colab": {
          "base_uri": "https://localhost:8080/",
          "height": 542
        },
        "id": "bxphn59Ziizf",
        "outputId": "065a1888-a923-4f44-ae91-ac15ed383e32"
      },
      "outputs": [
        {
          "data": {
            "application/vnd.plotly.v1+json": {
              "config": {
                "plotlyServerURL": "https://plot.ly"
              },
              "data": [
                {
                  "alignmentgroup": "True",
                  "boxpoints": "all",
                  "hovertemplate": "Status=%{x}<br>Meses_com_empresa=%{y}<extra></extra>",
                  "legendgroup": "0",
                  "marker": {
                    "color": "rgb(102,194,165)"
                  },
                  "name": "0",
                  "notched": false,
                  "offsetgroup": "0",
                  "orientation": "v",
                  "showlegend": true,
                  "type": "box",
                  "x": {
                    "bdata": "AAAAAAAAAAAAAAAAAAAAAAAAAAAAAAAAAAAAAAAAAAAAAAAAAAAAAAAAAAAAAAAAAAAAAAAAAAAAAAAAAAAAAAAAAAAAAAAAAAAAAAAAAAAAAAAAAAAAAAAAAAAAAAAAAAAAAAAAAAAAAAAAAAAAAAAAAAAAAAAAAAAAAAAAAAAAAAAAAAAAAAAAAAAAAAAAAAAAAAAAAAAAAAAAAAAAAAAAAAAAAAAAAAAAAAAAAAAAAAAAAAAAAAAAAAAAAAAAAAAAAAAAAAAAAAAAAAAAAAAAAAAAAAAAAAAAAAAAAAAAAAAAAAAAAAAAAAAAAAAAAAAAAAAAAAAAAAAAAAAAAAAAAAAAAAAAAAAAAAAAAAAAAAAAAAAAAAAAAAAAAAAAAAAAAAAAAAAAAAAAAAAAAAAAAAAAAAAAAAAAAAAAAAAAAAAAAAAAAAAAAAAAAAAAAAAAAAAAAAAAAAAAAAAAAAAAAAAAAAAAAAAAAAAAAAAAAAAAAAAAAAAAAAAAAAAAAAAAAAAAAAAAAAAAAAAAAAAAAAAAAAAAAAAAAAAAAAAAAAAAAAAAAAAAAAAAAAAAAAAAAAAAAAAAAAAAAAAAAAAAAAAAAAAAAAAAAAAAAAAAAAAAAAAAAAAAAAAAAAAAAAAAAAAAAAAAAAAAAAAAAAAAAAAAAAAAAAAAAAAAAAAAAAAAAAAAAAAAAAAAAAAAAAAAAAAAAAAAAAAAAAAAAAAAAAAAAAAAAAAAAAAAAAAAAAAAAAAAAAAAAAAAAAAAAAAAAAAAAAAAAAAAAAAAAAAAAAAAAAAAAAAAAAAAAAAAAAAAAAAAAAAAAAAAAAAAAAAAAAAAAAAAAAAAAAAAAAAAAAAAAAAAAAAAAAAAAAAAAAAAAAAAAAAAAAAAAAAAAAAAAAAAAAAAAAAAAAAAAAAAAAAAAAAAAAAAAAAAAAAAAAAAAAAAAAAAAAAAAAAAAAAAAAAAAAAAAAAAAAAAAAAAAAAAAAAAAAAAAAAAAAAAAAAAAAAAAAAAAAAAAAAAAAAAAAAAAAAAAAAAAAAAAAAAAAAAAAAAAAAAAAAAAAAAAAAAAAAAAAAAAAAAAAAAAAAAAAAAAAAAAAAAAAAAAAAAAAAAAAAAAAAAAAAAAAAAAAAAAAAAAAAAAAAAAAAAAAAAAAAAAAAAAAAAAAAAAAAAAAAAAAAAAAAAAAAAAAAAAAAAAAAAAAAAAAAAAAAAAAAAAAAAAAAAAAAAAAAAAAAAAAAAAAAAAAAAAAAAAAAAAAAAAAAAAAAAAAAAAAAAAAAAAAAAAAAAAAAAAAAAAAAAAAAAAAAAAAAAAAAAAAAAAAAAAAAAAAAAAAAAAAAAAAAAAAAAAAAAAAAAAAAAAAAAAAAAAAAAAAAAAAAAAAAAAAAAAAAAAAAAAAAAAAAAAAAAAAAAAAAAAAAAAAAAAAAAAAAAAAAAAAAAAAAAAAAAAAAAAAAAAAAAAAAAAAAAAAAAAAAAAAAAAAAAAAAAAAAAAAAAAAAAAAAAAAAAAAAAAAAAAAAAAAAAAAAAAAAAAAAAAAAAAAAAAAAAAAAAAAAAAAAAAAAAAAAAAAAAAAAAAAAAAAAAAAAAAAAAAAAAAAAAAAAAAAAAAAAAAAAAAAAAAAAAAAAAAAAAAAAAAAAAAAAAAAAAAAAAAAAAAAAAAAAAAAAAAAAAAAAAAAAAAAAAAAAAAAAAAAAAAAAAAAAAAAAAAAAAAAAAAAAAAAAAAAAAAAAAAAAAAAAAAAAAAAAAAAAAAAAAAAAAAAAAAAAAAAAAAAAAAAAAAAAAAAAAAAAAAAAAAAAAAAAAAAAAAAAAAAAAAAAAAAAAAAAAAAAAAAAAAAAAAAAAAAAAAAAAAAAAAAAAAAAAAAAAAAAAAAAAAAAAAAAAAAAAAAAAAAAAAAAAAAAAAAAAAAAAAAAAAAAAAAAAAAAAAAAAAAAAAAAAAAAAAAAAAAAAAAAAAAAAAAAAAAAAAAAAAAAAAAAAAAAAAAAAAAAAAAAAAAAAAAAAAAAAAAAAAAAAAAAAAAAAAAAAAAAAAAAAAAAAAAAAAAAAAAAAAAAAAAAAAAAAAAAAAAAAAAAAAAAAAAAAAAAAAAAAAAAAAAAAAAAAAAAAAAAAAAAAAAAAAAAAAAAAAAAAAAAAAAAAAAAAAAAAAAAAAAAAAAAAAAAAAAAAAAAAAAAAAAAAAAAAAAAAAAAAAAAAAAAAAAAAAAAAAAAAAAAAAAAAAAAAAAAAAAAAAAAAAAAAAAAAAAAAAAAAAAAAAAAAAAAAAAAAAAAAAAAAAAAAAAAAAAAAAAAAAAAAAAAAAAAAAAAAAAAAAAAAAAAAAAAAAAAAAAAAAAAAAAAAAAAAAAAAAAAAAAAAAAAAAAAAAAAAAAAAAAAAAAAAAAAAAAAAAAAAAAAAAAAAAAAAAAAAAAAAAAAAAAAAAAAAAAAAAAAAAAAAAAAAAAAAAAAAAAAAAAAAAAAAAAAAAAAAAAAAAAAAAAAAAAAAAAAAAAAAAAAAAAAAAAAAAAAAAAAAAAAAAAAAAAAAAAAAAAAAAAAAAAAAAAAAAAAAAAAAAAAAAAAAAAAAAAAAAAAAAAAAAAAAAAAAAAAAAAAAAAAAAAAAAAAAAAAAAAAAAAAAAAAAAAAAAAAAAAAAAAAAAAAAAAAAAAAAAAAAAAAAAAAAAAAAAAAAAAAAAAAAAAAAAAAAAAAAAAAAAAAAAAAAAAAAAAAAAAAAAAAAAAAAAAAAAAAAAAAAAAAAAAAAAAAAAAAAAAAAAAAAAAAAAAAAAAAAAAAAAAAAAAAAAAAAAAAAAAAAAAAAAAAAAAAAAAAAAAAAAAAAAAAAAAAAAAAAAAAAAAAAAAAAAAAAAAAAAAAAAAAAAAAAAAAAAAAAAAAAAAAAAAAAAAAAAAAAAAAAAAAAAAAAAAAAAAAAAAAAAAAAAAAAAAAAAAAAAAAAAAAAAAAAAAAAAAAAAAAAAAAAAAAAAAAAAAAAAAAAAAAAAAAAAAAAAAAAAAAAAAAAAAAAAAAAAAAAAAAAAAAAAAAAAAAAAAAAAAAAAAAAAAAAAAAAAAAAAAAAAAAAAAAAAAAAAAAAAAAAAAAAAAAAAAAAAAAAAAAAAAAAAAAAAAAAAAAAAAAAAAAAAAAAAAAAAAAAAAAAAAAAAAAAAAAAAAAAAAAAAAAAAAAAAAAAAAAAAAAAAAAAAAAAAAAAAAAAAAAAAAAAAAAAAAAAAAAAAAAAAAAAAAAAAAAAAAAAAAAAAAAAAAAAAAAAAAAAAAAAAAAAAAAAAAAAAAAAAAAAAAAAAAAAAAAAAAAAAAAAAAAAAAAAAAAAAAAAAAAAAAAAAAAAAAAAAAAAAAAAAAAAAAAAAAAAAAAAAAAAAAAAAAAAAAAAAAAAAAAAAAAAAAAAAAAAAAAAAAAAAAAAAAAAAAAAAAAAAAAAAAAAAAAAAAAAAAAAAAAAAAAAAAAAAAAAAAAAAAAAAAAAAAAAAAAAAAAAAAAAAAAAAAAAAAAAAAAAAAAAAAAAAAAAAAAAAAAAAAAAAAAAAAAAAAAAAAAAAAAAAAAAAAAAAAAAAAAAAAAAAAAAAAAAAAAAAAAAAAAAAAAAAAAAAAAAAAAAAAAAAAAAAAAAAAAAAAAAAAAAAAAAAAAAAAAAAAAAAAAAAAAAAAAAAAAAAAAAAAAAAAAAAAAAAAAAAAAAAAAAAAAAAAAAAAAAAAAAAAAAAAAAAAAAAAAAAAAAAAAAAAAAAAAAAAAAAAAAAAAAAAAAAAAAAAAAAAAAAAAAAAAAAAAAAAAAAAAAAAAAAAAAAAAAAAAAAAAAAAAAAAAAAAAAAAAAAAAAAAAAAAAAAAAAAAAAAAAAAAAAAAAAAAAAAAAAAAAAAAAAAAAAAAAAAAAAAAAAAAAAAAAAAAAAAAAAAAAAAAAAAAAAAAAAAAAAAAAAAAAAAAAAAAAAAAAAAAAAAAAAAAAAAAAAAAAAAAAAAAAAAAAAAAAAAAAAAAAAAAAAAAAAAAAAAAAAAAAAAAAAAAAAAAAAAAAAAAAAAAAAAAAAAAAAAAAAAAAAAAAAAAAAAAAAAAAAAAAAAAAAAAAAAAAAAAAAAAAAAAAAAAAAAAAAAAAAAAAAAAAAAAAAAAAAAAAAAAAAAAAAAAAAAAAAAAAAAAAAAAAAAAAAAAAAAAAAAAAAAAAAAAAAAAAAAAAAAAAAAAAAAAAAAAAAAAAAAAAAAAAAAAAAAAAAAAAAAAAAAAAAAAAAAAAAAAAAAAAAAAAAAAAAAAAAAAAAAAAAAAAAAAAAAAAAAAAAAAAAAAAAAAAAAAAAAAAAAAAAAAAAAAAAAAAAAAAAAAAAAAAAAAAAAAAAAAAAAAAAAAAAAAAAAAAAAAAAAAAAAAAAAAAAAAAAAAAAAAAAAAAAAAAAAAAAAAAAAAAAAAAAAAAAAAAAAAAAAAAAAAAAAAAAAAAAAAAAAAAAAAAAAAAAAAAAAAAAAAAAAAAAAAAAAAAAAAAAAAAAAAAAAAAAAAAAAAAAAAAAAAAAAAAAAAAAAAAAAAAAAAAAAAAAAAAAAAAAAAAAAAAAAAAAAAAAAAAAAAAAAAAAAAAAAAAAAAAAAAAAAAAAAAAAAAAAAAAAAAAAAAAAAAAAAAAAAAAAAAAAAAAAAAAAAAAAAAAAAAAAAAAAAAAAAAAAAAAAAAAAAAAAAAAAAAAAAAAAAAAAAAAAAAAAAAAAAAAAAAAAAAAAAAAAAAAAAAAAAAAAAAAAAAAAAAAAAAAAAAAAAAAAAAAAAAAAAAAAAAAAAAAAAAAAAAAAAAAAAAAAAAAAAAAAAAAAAAAAAAAAAAAAAAAAAAAAAAAAAAAAAAAAAAAAAAAAAAAAAAAAAAAAAAAAAAAAAAAAAAAAAAAAAAAAAAAAAAAAAAAAAAAAAAAAAAAAAAAAAAAAAAAAAAAAAAAAAAAAAAAAAAAAAAAAAAAAAAAAAAAAAAAAAAAAAAAAAAAAAAAAAAAAAAAAAAAAAAAAAAAAAAAAAAAAAAAAAAAAAAAAAAAAAAAAAAAAAAAAAAAAAAAAAAAAAAAAAAAAAAAAAAAAAAAAAAAAAAAAAAAAAAAAAAAAAAAAAAAAAAAAAAAAAAAAAAAAAAAAAAAAAAAAAAAAAAAAAAAAAAAAAAAAAAAAAAAAAAAAAAAAAAAAAAAAAAAAAAAAAAAAAAAAAAAAAAAAAAAAAAAAAAAAAAAAAAAAAAAAAAAAAAAAAAAAAAAAAAAAAAAAAAAAAAAAAAAAAAAAAAAAAAAAAAAAAAAAAAAAAAAAAAAAAAAAAAAAAAAAAAAAAAAAAAAAAAAAAAAAAAAAAAAAAAAAAAAAAAAAAAAAAAAAAAAAAAAAAAAAAAAAAAAAAAAAAAAAAAAAAAAAAAAAAAAAAAAAAAAAAAAAAAAAAAAAAAAAAAAAAAAAAAAAAAAAAAAAAAAAAAAAAAAAAAAAAAAAAAAAAAAAAAAAAAAAAAAAAAAAAAAAAAAAAAAAAAAAAAAAAAAAAAAAAAAAAAAAAAAAAAAAAAAAAAAAAAAAAAAAAAAAAAAAAAAAAAAAAAAAAAAAAAAAAAAAAAAAAAAAAAAAAAAAAAAAAAAAAAAAAAAAAAAAAAAAAAAAAAAAAAAAAAAAAAAAAAAAAAAAAAAAAAAAAAAAAAAAAAAAAAAAAAAAAAAAAAAAAAAAAAAAAAAAAAAAAAAAAAAAAAAAAAAAAAAAAAAAAAAAAAAAAAAAAAAAAAAAAAAAAAAAAAAAAAAAAAAAAAAAAAAAAAAAAAAAAAAAAAAAAAAAAAAAAAAAAAAAAAAAAAAAAAAAAAAAAAAAAAAAAAAAAAAAAAAAAAAAAAAAAAAAAAAAAAAAAAAAAAAAAAAAAAAAAAAAAAAAAAAAAAAAAAAAAAAAAAAAAAAAAAAAAAAAAAAAAAAAAAAAAAAAAAAAAAAAAAAAAAAAAAAAAAAAAAAAAAAAAAAAAAAAAAAAAAAAAAAAAAAAAAAAAAAAAAAAAAAAAAAAAAAAAAAAAAAAAAAAAAAAAAAAAAAAAAAAAAAAAAAAAAAAAAAAAAAAAAAAAAAAAAAAAAAAAAAAAAAAAAAAAAAAAAAAAAAAAAAAAAAAAAAAAAAAAAAAAAAAAAAAAAAAAAAAAAAAAAAAAAAAAAAAAAAAAAAAAAAAAAAAAAAAAAAAAAAAAAAAAAAAAAAAAAAAAAAAAAAAAAAAAAAAAAAAAAAAAAAAAAAAAAAAAAAAAAAAAAAAAAAAAAAAAAAAAAAAAAAAAAAAAAAAAAAAAAAAAAAAAAAAAAAAAAAAAAAAAAAAAAAAAAAAAAAAAAAAAAAAAAAAAAAAAAAAAAAAAAAAAAAAAAAAAAAAAAAAAAAAAAAAAAAAAAAAAAAAAAAAAAAAAAAAAAAAAAAAAAAAAAAAAAAAAAAAAAAAAAAAAAAAAAAAAAAAAAAAAAAAAAAAAAAAAAAAAAAAAAAAAAAAAAAAAAAAAAAAAAAAAAAAAAAAAAAAAAAAAAAAAAAAAAAAAAAAAAAAAAAAAAAAAAAAAAAAAAAAAAAAAAAAAAAAAAAAAAAAAAAAAAAAAAAAAAAAAAAAAAAAAAAAAAAAAAAAAAAAAAAAAAAAAAAAAAAAAAAAAAAAAAAAAAAAAAAAAAAAAAAAAAAAAAAAAAAAAAAAAAAAAAAAAAAAAAAAAAAAAAAAAAAAAAAAAAAAAAAAAAAAAAAAAAAAAAAAAAAAAAAAAAAAAAAAAAAAAAAAAAAAAAAAAAAAAAAAAAAAAAAAAAAAAAAAAAAAAAAAAAAAAAAAAAAAAAAAAAAAAAAAAAAAAAAAAAAAAAAAAAAAAAAAAAAAAAAAAAAAAAAAAAAAAAAAAAAAAAAAAAAAAAAAAAAAAAAAAAAAAAAAAAAAAAAAAAAAAAAAAAAAAAAAAAAAAAAAAAAAAAAAAAAAAAAAAAAAAAAAAAAAAAAAAAAAAAAAAAAAAAAAAAAAAAAAAAAAAAAAAAAAAAAAAAAAAAAAAAAAAAAAAAAAAAAAAAAAAAAAAAAAAAAAAAAAAAAAAAAAAAAAAAAAAAAAAAAAAAAAAAAAAAAAAAAAAAAAAAAAAAAAAAAAAAAAAAAAAAAAAAAAAAAAAAAAAAAAAAAAAAAAAAAAAAAAAAAAAAAAAAAAAAAAAAAAAAAAAAAAAAAAAAAAAAAAAAAAAAAAAAAAAAAAAAAAAAAAAAAAAAAAAAAAAAAAAAAAAAAAAAAAAAAAAAAAAAAAAA==",
                    "dtype": "i1"
                  },
                  "x0": " ",
                  "xaxis": "x",
                  "y": {
                    "bdata": "CQkJRz8HQTZIBUg4RyIBMhcDNzYaRQslMUJDFCs3OwwbGxkZHUgOIwEdQCcoBh4bRjk6EEUgEEchChpHMj0aSCxCLEUCGxonHQVIGBNHIQMvPkcHGwIZHglFQi42DBZGHkceCgQ0CAIDE0g/QjwwMkguSAEBQzBINEMgAzJHEENIF0gHQQhCPwwbIzYFEzRIICkFCxBHC0cJBgYLMQM1A0YnMzw3SEg8Lg8XCzgZRChHERIlAhwJAUEDJBZIQyIKRSgULkhGAhckQ0hISDofAzcxJ0IPMwkZFg8DL0MSPiksNTA2GBshQgMNPzQDCkgdPhoTSC0gKUELMT0ZFxUYRi4COQk8JRwYPhQ0SAFGQjc5BkgcNhgCDgwwMw06Eh1IR0YUPx4HRQkuPBApBBgmGSgNQBQ5DDs7LTJGSA0ENT8KOCxBAR1IKBZIAwQSPh0wNQYWSCIwFUcBASABP0g1MhU0BCgXOUcxCT1GDSI5BywtJEVHHjQ0A0hIMzNIQA00BwQuNkgiQhALRzk+SEIQOgRIQ0dIDwsrGDQNNyoCAREbLUckDxRHGEdCHi8HAi4+RhAPLUgNBhJEQAVAGgI7ETg+NRcGCD0iOCZFSEYHPUA3PQ4WPAEEDQM/JDYvKQ0eLC80OAw2DQcqQTE+Cw0lAUVIGgM+GighSANEEwc4QgcBCD44KTkmGkgeRD88ExlHCBQrESwCR0gSNEM4RQEZNzU7BwNAM0UmOD8LGEhFOBILLT1CKjcBRAERDxwcKD8nMAYsRTEYRz0SG0ABMh45ETM8ISYBEEgpQUhDMRNFLzUbCxw1EwMXPz0bAT0ECAw4NBREAzI8BC0ZKwk+KAYUEAhIFUADOgEFEkM9NA4rNAQFGxcxRztASAQsHicPRhxISCNER0YdQhQ3CUgxGCo0EjoMSDRGEgc2REg3CQQSKQYOPQ1ASBsWCwQHBjILNhdDBS4AMCgeDxAJBxQLASwrFhgHOQs5FxJGIQEDNgdGHiABOTg0QQwdIRYKGg1COhZIAScBNARGPAgDQEIxASQ6BwFIIx40SB9GNQodOy0MIUIxPRgBEQw9GzBHBD0fHjcqRysTEwwERkQ5MwRGEzNHCzw+DC0IRCQBHQEOBRNHBAEGIERIPzUGOzABJRs3SEYMFxcoCyoMRyc6PRM9EDw0ET8uKi8zLTUBAkAKIiA2Cwg4OCIBLjwWJwIjGRIDQh0iQggtEkgiAkgKMxwNAg8CDDMeQEgFSAEbSB5BPT4tNBhGJyoUSA0WAQcICEAWGh8EMEckARUTOh0LQAFAJycYAQgkEAcpBTdISAEvFUQ6ISE4MURIAQFDLUgKOxYeNAoUI0goQS0HFx0rEkcJMBtGOjwuCEQuCAkBPxISJT8GMAQdG0EfMUgFASEBQTw/N0RIJR1ALhdEKRE3BUQHKQIBAQMRJRZESBBBNwEhHhkBGUgsEgc7RigiBUQOE0MyKzsbKBwFNj8USEcgR0dHFkQCRh0MIihISC1IRxJERCIYOiU0LSsaOAFEGwkBR0gVNggYMAURSEgGSD4BMyYhFB9ASAk9NEUBRA4HATMPSDI5LD4HSAFIASBHPAQ0HTEoOT4XQSZIAhxBAkgMGhQHF0MwQAMgMzASFzcCGyM6KiwrBwEpQSguPh5GARgLOggjQUQuSCY6EUgyAzdHJTc9LAI4SAMBLApIQhJAFiYFEgtDQ0gvNh8LCwEUCAFIFx4dOzoBBD0nHyEEIEgLFw8vSCMyKSE8GQBGPCIbPDgPRgEqAQJINDkHBy9BSERIMCMBIywlQTsWATYsBjINARtHDicfFAwoSAFAR0AhA0YzQ0Q+QANHAiQIQSE2AQo8QUgaATApATglOAcERzo1HwEGMQgWPQkFQR0BDDdEIgEkDwoDASsIRwYnLkghIAURBQoBKRYvQQgjCBgkQwAVCzINQANHCQEDLj9HBUEqAxhCGTg0FxkgFxoxATIcMRJIJQctEx09BCYCDysYQEgbIwEiNQYBPQFEIg0jI0gCDEU5RSkvOxIoAkRGAUgCCzgkJRITASYAOB5ICDUuBg0oOzIuEiNFAT4XLQkYRwECQwcNOSRCFgNFSBcoRkYDRUhDLBNGFR0dGTcCExMJBx0dATJDJUAIASYDIAMDOAk1PyMNDg4zRAE8F0gDBiwNLwMOF0hCNQsCARISPUEpEwQZSAUAO0Q2FjEzEwIOSD8DBBFHCkhFLzwCNSI8Qzc1OT0mPDIJRy4jFxUQRkIOLgMiAxkTQUMIQxovFDQAPUgYBEJBIi1HAgwQSAE+NTQSMwZISDk6R0gRCEQcAkceIiAGLQsCFx1EEUU7ASAdHDIOFAMOF0dARQxIJEQECB07ECgJCDpHBREeAw0eASI0LC8NFyhDAkYrSDMzFjNHAywfAwEpPB0CBQIcDhM8RwErRC8ELiMvGRMxBkQ6GRgGDxoQChVDEyg5KRxARhUkRgI4BD9EKyM8R0cYF0hIAUgiGCAaKxFHBxZENy83SDEHLwwiPxQvREABDDUYSEIqOi4tAT1IEjM5CiMJRgEYAgMbRikKNx9AR0I0AjkVCBERDz4NRDoTDUc9HQ0BOCBIKz1FND5INhNHBQpEATwWChAdNAQFRDIHEBVIRRo9MSU8AQUmAgE2Mw8bGAoGRwFCIwFBDz0WHBgkQwNCBAwHDUE7QS5EQyEUQEM6GEcjCAc1AUgVHkY/PwsCDh0DNwEUSEYbQwwRSEcBRxACEApHEQQoOyZIE0VGDkMBPEMtRBAlSERDGAotPwRESEdIQAk8AxopAS0yLAJIKi8JQjkqFBccRiIBSANIQws6PkdIAQUTCEEkGgkHAkc8JjoZEx8/ODgbPBUBGRY9Bh9IAwMpMUcMQBJIOgdDBwM0CwEhNCQzAEgQHkgNJiJHLwMwFCJEPkMYHUM4HQdFBCNHOgkMAy9DBQQ0HDcCMjNIMxYBPzMjLjZDDEYKFT8kOTkaP0g2OwFFDEMcIT0VAghESAECAgI9IwI8NAUGIQFCSBgIJkQJBAEcB0gHQTgPOAkQRUQyChoQRkgRCgcNRgUKJxQUSD4YFTAHNRs4ERIlMAgyAQA4ASJIIBFELyxIFkYDLAUEBDYODA1FI0AUGgQHPgpHKgkCPCcPBw89EzsePhIUBAUKADQtRRkkCAIFDSY9EkcXLhojH0cqOBINKho2KAgZKjM6OAwJAi4IEDc0PgQEDjsvRwUpNAkJDDQNEC0iRjUgCBsuPBQqEEEUIRYsSBQzRRY1CQEgIjY+HjcRBxIGNS1AEkZFKBIBITxIPwwfRwEyNgssPjkSRhUqCxUDCAIzFUZDFQFIIh0FEhQtFB0yC0gGSDAyASQHKEg/AjwvGQQlSEM7K0MeDQIeDD8wAUc9BRooBwsIIhM9RjMjHggECkgyRxIgSEgWKj0jKEhCFBBIE0FDJ0gvQTgGOCgFAwI6DQpCOEc4NyoCKg4KFic5CD89MiNIHTYxSAFGNxoZHwISAg0oEQo9GzxAHAgiJCMWK0YPAx1IRx4TOCQ5AzQCER4IRDlIGg4eQjEPRydDHw0vFzk4Ch4rCRsUMwEmCzhIDQEHMx0aQ0ErCR4gGQ0DAkNCBDJAOzMKDhEBOwIYLzc8SEUdRzAkAjIDHz82OCsZPjEBCDJIPzYfOwkEJhBDFEAcRxUDHyVEIhwDCxFFJUgIMRsESAICQxYwL0IlOEgKCSM2PzVDRyoMOSMhPhkaIjERNRkBRhwbSAcfRCAEQBpHKSkvHRYqOS0ONjRHSEgoQBoBND4qCylIMThGSAsdNS5IPzwjSDA1By4MQA8pMxxCKzpCRx9HHzBISDYESDxBIiUEPjQIRQwFARwDOkdIGQISJTIVRUhHJhYtD0JCDCA8CUNBBRAFCEc5HiAKRAwOEylFAiEMOhY9GzUTOEgRRkhFKykuE0Q0GCEfQxZCRxRCLwMBRhEuKQghARkhCy8HMRQcBCoBBCkNMkIKAQIbOghHSD8iLjosBAgYSA4CBgwHSAoPOi4EIwkUIxUxAy8NHjo1PAgzHwopEiAKHz4qSBhBSEYyR0dEK0gRHylDETAcRxoBCw1HBDUAKwRBDTEISEIrND1FRkcuHAs9BgMWJjRISDIHKAwJCEhHSCIYODQ3RUQ/MkhGJwM0FEYlBzg5MDg+Fx0dFRAQEiEjR0chFkQbBkYxLAIBGi4KASA8F0gLBUgjOkVIOAlDHx9GATciIEhGMQIlICACQA0pCUUWFxEPMBM1NUcPAhoSIUgGFQMMSEAvAkguMyQrSCMlF0FIICdEGBAMQjoXJQFDKEg9ASlINkY9MCIjBAIBRUgRHAUgNhANAQ8nKQJFRUY3RikZFxtBFj00JgMNMygSF0ggJERAGho7LA0dSCIuPj8YRgEBKTgjEw0SPgcwBkAKASFEGgFHRwZIOzs5IytDLgVIMAVIAwEmMzlBOBEFHS4WCTRAPzIPOREGKgFFBjgELRZIQhc+F0U9RjYlRw1HBAdEIAEEGh9FQR4cAQksRzhIARQ2FzJIE0Y7OR1HCzwxMUNBDTBHCTI+HxRFIkg1BANDNgMfKkcNJgREPRAuSAU8AQEnSEA+AwQZMwJCSC4LMz4XHDAYEwoFQUgJRh5EHx8FI0ciRzkIQwEEEBcMDyAZJEgtHTgIRD4fBggHRA43BhwNKRcPASUXJhY1AjBIRSMYLQ8QIQMXMzU8DQkOIiEnRxAaMS0hLQEuIRkRIAEBMw8wG0hGDxEyDQYuIR5IGEc9QRctGBI/BQY6Qww7AgRIFxwFAg4eEAdIAUMLATJIATAfE0UHCzgrPzwsPhAjEkZDEAs9SB0UBT0KK0gPQUIJLEcbDg9IPwFDFC9GIwNDBUFIQyEsHj8qIxNIAio9Hi46GjgxKB0YGAIkBQwSPkIGAiYvLTM4AgpIMBwbDDYPA0UMNhg1AjpAOiMISAJDSAsJJR4YRAJGQCgeIEcBEjBHMgEsPR0MMTQ8SCgdAUFBSAE7BUgFOBcCCzVIGh8TMAI2REYSLS9GRiUPNzorCQY3SAhDRSwaDjEmPEVGBA5HREdCBDdIEhkoRx09AjgNCQcpL0UeNkgYJTBFHyYlBC4VJxE2CQNGHjA+DgtCJwQMIEZIEQgZCgFIK0gJMkUPGiMVNBpHQjxIRScmES4FIhEQMDwHSEIoFzI8CAoMJTc5Kz0DQ0c6FjkjQyRISBkMRhU+FkEmLAZDSCgLRikYBBFEDj8rQgQgLAEYMjMDATUoPQFICxkSPjc3HD4NFhgQEQUtDAE8Aw4zARdIAR8eRQEFAQ0IBxkgAg1IJwYfOxsIJwQdMwM7JQcGBwkELkgcCQETBEcCEgIWAhQERywDSDYSGjUDGUg1CjkIIUAJPDYuRwYBATAtJQs3Jx0mLUgBEDVHPEcORSU1Bzk9Ai5ASBlAGA9FMgxFQgUDRQMROQw/ARI6MhsGCkNGMA1ISBhIRD4pLgFHPAooGwEiIBsMQT4wIwFHSB8tSBUtPhE2DxYBNSo4HAY4Bxk5LwgMOgI5NEYnPwA2C0crFRMzO0gdJAoRDDo5RRchCCJIR0A1RDREMSUBC0YoEkVHPRo8D0UBNkgJAkJIOTczBhwQHgw3ASIGA0gKKy8WJwwtRkgDBj0qAS0IDhIrGxI0AwMXFB8BIwYOP0QDOhgzLT0hRRoXDQQBFS0MSD8rPB81Q0gEMw9FBAE3BBMXGUcOGDgHBRMQCkgzQxktAQsURkBBPCMLJAMfGzQVGEMKCAMGQUhCQi8EFRkISCQxEg8INioNQj9HDwoCDzUjK0g3QigWOEg+R0cnMjcGSEUBP0I/DD4BCjEWPjYhQAFBRxhDDhhGCQoeDQs+CUc6SAoTOzYqMCtEDCYOSAsRCgkEJAZIOAYxDxc2RyIqCCcCMkgLBwc7QkghA0UYH0YBRD4ENSApNBhIDhVHGQEXSAxGSEYQFgUBRSoqBUgnFSMjDBtIOkBHCkdCRStIPQdGBREzBQkGQAc8ARRISAQBOAkMIUYBASctHgc7AUhDLwQYCQdBDiMaByUXMhs6DEhICS1AQCcrATpIRCY3ITk6DwgEPgFESDcqQykaBEIPPzsZBEVCHDkxQSo9CkMBJSNICBMUJjkmQxY5SEYNPh8SQCoeQRIpNiBIO0Q0PTYIAw5II0IwMAFDAREoRUgBJC8QESYyCEMmRik7QBZGKwFIEiYCDANHAQYaRTgvSBIzLglIKkUOQjkOGBACQEcDSBo0SCQuMwQ4LB0dAR1EIgEzNAEVRkUhATsCBD0qAUcbOSUpGgUKHwoOCUgqAgUuORUEQRMBSEYcRwUZRTlEAUcbRz9IKAFBNAkVPxlCLDw8OwwIBBwMHgIpN0geGS4fRDpGMEg/HjwhQxlIPychMAotQEQGHScUNEcpRUQUIxEBBz4BLCdILw8CNkVIFQMuIkglPD5EKhkSRBlDIgwPPyABKQIyODkDFiQWRg4SFwFHCUAjCxtARwFFCQEVDQc5E0gtPCowNwkrB0cgCEgzAxojGwIaQSkWQEEYM0hFLEYoPRdIPjJAPy8vOiI8DEAWCw8OFwI7AT0BCkUjMEg+KBABSCw7EhczQEUCIxoaRCwdGA44BgZHKwEPFiwMNDUyGCkmKj84JRIsAT5FNy9IEEE7Ei0VSA1IHAEwQ0ELNEcDCg8DNBVEJy5IQA0FSDlIL0UmGg4LGwgXPAYHQkghFzsEQwRIKhomGEFDGEAoCA9HGzkEDDQGPCEBBiNIKysFLDUXPhsID0UDRg9DQC0oCEYmMwkCSDARRwELSBsyIzVIDBklGiNHHEdGAUc+SA5GCUg/RkgIQgoZLQsISEg9I0U7NBQ1Aw02IiMKGx8KIg1IGw9GJBpFATREPhMJGD1ICA0eJkckNEFARwNEBiVEDzsRKUACMUU3JTgyAQEjQwE1FgQrBi8ZJUQ/KQQBIwMvA0gCPwI1AwlCBi9HEiYtQ0I6AkctLkg1SDEBLDc7IgUrCgIzMj0NBQEGJzgEDkcbAgEpDgggMTEnSAZDAy8WNCABARoxMAUnDTsRJkY1AwobQUAfSBYGMSM/SAcXQEIHCA4RLgIWQhdIRy4oNQwCJUI1ASlIJDspGDoqDEgrBQEOBEY7DhFIIyJIE0gRFhUiMQtIGR0jQBwXAUISIEEaFDswKUgVKgkhF0hIFgwEHC4LPA8pRCVDIBkcP0VDBkhHAUcfEz8GIkMcNUAuAS8HDQJDPw==",
                    "dtype": "i1"
                  },
                  "y0": " ",
                  "yaxis": "y"
                },
                {
                  "alignmentgroup": "True",
                  "boxpoints": "all",
                  "hovertemplate": "Status=%{x}<br>Meses_com_empresa=%{y}<extra></extra>",
                  "legendgroup": "1",
                  "marker": {
                    "color": "rgb(252,141,98)"
                  },
                  "name": "1",
                  "notched": false,
                  "offsetgroup": "1",
                  "orientation": "v",
                  "showlegend": true,
                  "type": "box",
                  "x": {
                    "bdata": "AQEBAQEBAQEBAQEBAQEBAQEBAQEBAQEBAQEBAQEBAQEBAQEBAQEBAQEBAQEBAQEBAQEBAQEBAQEBAQEBAQEBAQEBAQEBAQEBAQEBAQEBAQEBAQEBAQEBAQEBAQEBAQEBAQEBAQEBAQEBAQEBAQEBAQEBAQEBAQEBAQEBAQEBAQEBAQEBAQEBAQEBAQEBAQEBAQEBAQEBAQEBAQEBAQEBAQEBAQEBAQEBAQEBAQEBAQEBAQEBAQEBAQEBAQEBAQEBAQEBAQEBAQEBAQEBAQEBAQEBAQEBAQEBAQEBAQEBAQEBAQEBAQEBAQEBAQEBAQEBAQEBAQEBAQEBAQEBAQEBAQEBAQEBAQEBAQEBAQEBAQEBAQEBAQEBAQEBAQEBAQEBAQEBAQEBAQEBAQEBAQEBAQEBAQEBAQEBAQEBAQEBAQEBAQEBAQEBAQEBAQEBAQEBAQEBAQEBAQEBAQEBAQEBAQEBAQEBAQEBAQEBAQEBAQEBAQEBAQEBAQEBAQEBAQEBAQEBAQEBAQEBAQEBAQEBAQEBAQEBAQEBAQEBAQEBAQEBAQEBAQEBAQEBAQEBAQEBAQEBAQEBAQEBAQEBAQEBAQEBAQEBAQEBAQEBAQEBAQEBAQEBAQEBAQEBAQEBAQEBAQEBAQEBAQEBAQEBAQEBAQEBAQEBAQEBAQEBAQEBAQEBAQEBAQEBAQEBAQEBAQEBAQEBAQEBAQEBAQEBAQEBAQEBAQEBAQEBAQEBAQEBAQEBAQEBAQEBAQEBAQEBAQEBAQEBAQEBAQEBAQEBAQEBAQEBAQEBAQEBAQEBAQEBAQEBAQEBAQEBAQEBAQEBAQEBAQEBAQEBAQEBAQEBAQEBAQEBAQEBAQEBAQEBAQEBAQEBAQEBAQEBAQEBAQEBAQEBAQEBAQEBAQEBAQEBAQEBAQEBAQEBAQEBAQEBAQEBAQEBAQEBAQEBAQEBAQEBAQEBAQEBAQEBAQEBAQEBAQEBAQEBAQEBAQEBAQEBAQEBAQEBAQEBAQEBAQEBAQEBAQEBAQEBAQEBAQEBAQEBAQEBAQEBAQEBAQEBAQEBAQEBAQEBAQEBAQEBAQEBAQEBAQEBAQEBAQEBAQEBAQEBAQEBAQEBAQEBAQEBAQEBAQEBAQEBAQEBAQEBAQEBAQEBAQEBAQEBAQEBAQEBAQEBAQEBAQEBAQEBAQEBAQEBAQEBAQEBAQEBAQEBAQEBAQEBAQEBAQEBAQEBAQEBAQEBAQEBAQEBAQEBAQEBAQEBAQEBAQEBAQEBAQEBAQEBAQEBAQEBAQEBAQEBAQEBAQEBAQEBAQEBAQEBAQEBAQEBAQEBAQEBAQEBAQEBAQEBAQEBAQEBAQEBAQEBAQEBAQEBAQEBAQEBAQEBAQEBAQEBAQEBAQEBAQEBAQEBAQEBAQEBAQEBAQEBAQEBAQEBAQEBAQEBAQEBAQEBAQEBAQEBAQEBAQEBAQEBAQEBAQEBAQEBAQEBAQEBAQEBAQEBAQEBAQEBAQEBAQEBAQEBAQEBAQEBAQEBAQEBAQEBAQEBAQEBAQEBAQEBAQEBAQEBAQEBAQEBAQEBAQEBAQEBAQEBAQEBAQEBAQEBAQEBAQEBAQEBAQEBAQEBAQEBAQEBAQEBAQEBAQEBAQEBAQEBAQEBAQEBAQEBAQEBAQEBAQEBAQEBAQEBAQEBAQEBAQEBAQEBAQEBAQEBAQEBAQEBAQEBAQEBAQEBAQEBAQEBAQEBAQEBAQEBAQEBAQEBAQEBAQEBAQEBAQEBAQEBAQEBAQEBAQEBAQEBAQEBAQEBAQEBAQEBAQEBAQEBAQEBAQEBAQEBAQEBAQEBAQEBAQEBAQEBAQEBAQEBAQEBAQEBAQEBAQEBAQEBAQEBAQEBAQEBAQEBAQEBAQEBAQEBAQEBAQEBAQEBAQEBAQEBAQEBAQEBAQEBAQEBAQEBAQEBAQEBAQEBAQEBAQEBAQEBAQEBAQEBAQEBAQEBAQEBAQEBAQEBAQEBAQEBAQEBAQEBAQEBAQEBAQEBAQEBAQEBAQEBAQEBAQEBAQEBAQEBAQEBAQEBAQEBAQEBAQEBAQEBAQEBAQEBAQEBAQEBAQEBAQEBAQEBAQEBAQEBAQEBAQEBAQEBAQEBAQEBAQEBAQEBAQEBAQEBAQEBAQEBAQEBAQEBAQEBAQEBAQEBAQEBAQEBAQEBAQEBAQEBAQEBAQEBAQEBAQEBAQEBAQEBAQEBAQEBAQEBAQEBAQEBAQEBAQEBAQEBAQEBAQEBAQEBAQEBAQEBAQEBAQEBAQEBAQEBAQEBAQEBAQEBAQEBAQEBAQEBAQEBAQEBAQEBAQEBAQEBAQEBAQEBAQEBAQEBAQEBAQEBAQEBAQEBAQEBAQEBAQEBAQEBAQEBAQEBAQEBAQEBAQEBAQEBAQEBAQEBAQEBAQEBAQEBAQEBAQEBAQEBAQEBAQEBAQEBAQEBAQEBAQEBAQEBAQEBAQEBAQEBAQEBAQEBAQEBAQEBAQEBAQEBAQEBAQEBAQEB",
                    "dtype": "i1"
                  },
                  "x0": " ",
                  "xaxis": "x",
                  "y": {
                    "bdata": "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",
                    "dtype": "i1"
                  },
                  "y0": " ",
                  "yaxis": "y"
                }
              ],
              "layout": {
                "boxmode": "overlay",
                "legend": {
                  "title": {
                    "text": "Cancelamento"
                  },
                  "tracegroupgap": 0
                },
                "template": {
                  "data": {
                    "bar": [
                      {
                        "error_x": {
                          "color": "#2a3f5f"
                        },
                        "error_y": {
                          "color": "#2a3f5f"
                        },
                        "marker": {
                          "line": {
                            "color": "white",
                            "width": 0.5
                          },
                          "pattern": {
                            "fillmode": "overlay",
                            "size": 10,
                            "solidity": 0.2
                          }
                        },
                        "type": "bar"
                      }
                    ],
                    "barpolar": [
                      {
                        "marker": {
                          "line": {
                            "color": "white",
                            "width": 0.5
                          },
                          "pattern": {
                            "fillmode": "overlay",
                            "size": 10,
                            "solidity": 0.2
                          }
                        },
                        "type": "barpolar"
                      }
                    ],
                    "carpet": [
                      {
                        "aaxis": {
                          "endlinecolor": "#2a3f5f",
                          "gridcolor": "#C8D4E3",
                          "linecolor": "#C8D4E3",
                          "minorgridcolor": "#C8D4E3",
                          "startlinecolor": "#2a3f5f"
                        },
                        "baxis": {
                          "endlinecolor": "#2a3f5f",
                          "gridcolor": "#C8D4E3",
                          "linecolor": "#C8D4E3",
                          "minorgridcolor": "#C8D4E3",
                          "startlinecolor": "#2a3f5f"
                        },
                        "type": "carpet"
                      }
                    ],
                    "choropleth": [
                      {
                        "colorbar": {
                          "outlinewidth": 0,
                          "ticks": ""
                        },
                        "type": "choropleth"
                      }
                    ],
                    "contour": [
                      {
                        "colorbar": {
                          "outlinewidth": 0,
                          "ticks": ""
                        },
                        "colorscale": [
                          [
                            0,
                            "#0d0887"
                          ],
                          [
                            0.1111111111111111,
                            "#46039f"
                          ],
                          [
                            0.2222222222222222,
                            "#7201a8"
                          ],
                          [
                            0.3333333333333333,
                            "#9c179e"
                          ],
                          [
                            0.4444444444444444,
                            "#bd3786"
                          ],
                          [
                            0.5555555555555556,
                            "#d8576b"
                          ],
                          [
                            0.6666666666666666,
                            "#ed7953"
                          ],
                          [
                            0.7777777777777778,
                            "#fb9f3a"
                          ],
                          [
                            0.8888888888888888,
                            "#fdca26"
                          ],
                          [
                            1,
                            "#f0f921"
                          ]
                        ],
                        "type": "contour"
                      }
                    ],
                    "contourcarpet": [
                      {
                        "colorbar": {
                          "outlinewidth": 0,
                          "ticks": ""
                        },
                        "type": "contourcarpet"
                      }
                    ],
                    "heatmap": [
                      {
                        "colorbar": {
                          "outlinewidth": 0,
                          "ticks": ""
                        },
                        "colorscale": [
                          [
                            0,
                            "#0d0887"
                          ],
                          [
                            0.1111111111111111,
                            "#46039f"
                          ],
                          [
                            0.2222222222222222,
                            "#7201a8"
                          ],
                          [
                            0.3333333333333333,
                            "#9c179e"
                          ],
                          [
                            0.4444444444444444,
                            "#bd3786"
                          ],
                          [
                            0.5555555555555556,
                            "#d8576b"
                          ],
                          [
                            0.6666666666666666,
                            "#ed7953"
                          ],
                          [
                            0.7777777777777778,
                            "#fb9f3a"
                          ],
                          [
                            0.8888888888888888,
                            "#fdca26"
                          ],
                          [
                            1,
                            "#f0f921"
                          ]
                        ],
                        "type": "heatmap"
                      }
                    ],
                    "histogram": [
                      {
                        "marker": {
                          "pattern": {
                            "fillmode": "overlay",
                            "size": 10,
                            "solidity": 0.2
                          }
                        },
                        "type": "histogram"
                      }
                    ],
                    "histogram2d": [
                      {
                        "colorbar": {
                          "outlinewidth": 0,
                          "ticks": ""
                        },
                        "colorscale": [
                          [
                            0,
                            "#0d0887"
                          ],
                          [
                            0.1111111111111111,
                            "#46039f"
                          ],
                          [
                            0.2222222222222222,
                            "#7201a8"
                          ],
                          [
                            0.3333333333333333,
                            "#9c179e"
                          ],
                          [
                            0.4444444444444444,
                            "#bd3786"
                          ],
                          [
                            0.5555555555555556,
                            "#d8576b"
                          ],
                          [
                            0.6666666666666666,
                            "#ed7953"
                          ],
                          [
                            0.7777777777777778,
                            "#fb9f3a"
                          ],
                          [
                            0.8888888888888888,
                            "#fdca26"
                          ],
                          [
                            1,
                            "#f0f921"
                          ]
                        ],
                        "type": "histogram2d"
                      }
                    ],
                    "histogram2dcontour": [
                      {
                        "colorbar": {
                          "outlinewidth": 0,
                          "ticks": ""
                        },
                        "colorscale": [
                          [
                            0,
                            "#0d0887"
                          ],
                          [
                            0.1111111111111111,
                            "#46039f"
                          ],
                          [
                            0.2222222222222222,
                            "#7201a8"
                          ],
                          [
                            0.3333333333333333,
                            "#9c179e"
                          ],
                          [
                            0.4444444444444444,
                            "#bd3786"
                          ],
                          [
                            0.5555555555555556,
                            "#d8576b"
                          ],
                          [
                            0.6666666666666666,
                            "#ed7953"
                          ],
                          [
                            0.7777777777777778,
                            "#fb9f3a"
                          ],
                          [
                            0.8888888888888888,
                            "#fdca26"
                          ],
                          [
                            1,
                            "#f0f921"
                          ]
                        ],
                        "type": "histogram2dcontour"
                      }
                    ],
                    "mesh3d": [
                      {
                        "colorbar": {
                          "outlinewidth": 0,
                          "ticks": ""
                        },
                        "type": "mesh3d"
                      }
                    ],
                    "parcoords": [
                      {
                        "line": {
                          "colorbar": {
                            "outlinewidth": 0,
                            "ticks": ""
                          }
                        },
                        "type": "parcoords"
                      }
                    ],
                    "pie": [
                      {
                        "automargin": true,
                        "type": "pie"
                      }
                    ],
                    "scatter": [
                      {
                        "fillpattern": {
                          "fillmode": "overlay",
                          "size": 10,
                          "solidity": 0.2
                        },
                        "type": "scatter"
                      }
                    ],
                    "scatter3d": [
                      {
                        "line": {
                          "colorbar": {
                            "outlinewidth": 0,
                            "ticks": ""
                          }
                        },
                        "marker": {
                          "colorbar": {
                            "outlinewidth": 0,
                            "ticks": ""
                          }
                        },
                        "type": "scatter3d"
                      }
                    ],
                    "scattercarpet": [
                      {
                        "marker": {
                          "colorbar": {
                            "outlinewidth": 0,
                            "ticks": ""
                          }
                        },
                        "type": "scattercarpet"
                      }
                    ],
                    "scattergeo": [
                      {
                        "marker": {
                          "colorbar": {
                            "outlinewidth": 0,
                            "ticks": ""
                          }
                        },
                        "type": "scattergeo"
                      }
                    ],
                    "scattergl": [
                      {
                        "marker": {
                          "colorbar": {
                            "outlinewidth": 0,
                            "ticks": ""
                          }
                        },
                        "type": "scattergl"
                      }
                    ],
                    "scattermap": [
                      {
                        "marker": {
                          "colorbar": {
                            "outlinewidth": 0,
                            "ticks": ""
                          }
                        },
                        "type": "scattermap"
                      }
                    ],
                    "scattermapbox": [
                      {
                        "marker": {
                          "colorbar": {
                            "outlinewidth": 0,
                            "ticks": ""
                          }
                        },
                        "type": "scattermapbox"
                      }
                    ],
                    "scatterpolar": [
                      {
                        "marker": {
                          "colorbar": {
                            "outlinewidth": 0,
                            "ticks": ""
                          }
                        },
                        "type": "scatterpolar"
                      }
                    ],
                    "scatterpolargl": [
                      {
                        "marker": {
                          "colorbar": {
                            "outlinewidth": 0,
                            "ticks": ""
                          }
                        },
                        "type": "scatterpolargl"
                      }
                    ],
                    "scatterternary": [
                      {
                        "marker": {
                          "colorbar": {
                            "outlinewidth": 0,
                            "ticks": ""
                          }
                        },
                        "type": "scatterternary"
                      }
                    ],
                    "surface": [
                      {
                        "colorbar": {
                          "outlinewidth": 0,
                          "ticks": ""
                        },
                        "colorscale": [
                          [
                            0,
                            "#0d0887"
                          ],
                          [
                            0.1111111111111111,
                            "#46039f"
                          ],
                          [
                            0.2222222222222222,
                            "#7201a8"
                          ],
                          [
                            0.3333333333333333,
                            "#9c179e"
                          ],
                          [
                            0.4444444444444444,
                            "#bd3786"
                          ],
                          [
                            0.5555555555555556,
                            "#d8576b"
                          ],
                          [
                            0.6666666666666666,
                            "#ed7953"
                          ],
                          [
                            0.7777777777777778,
                            "#fb9f3a"
                          ],
                          [
                            0.8888888888888888,
                            "#fdca26"
                          ],
                          [
                            1,
                            "#f0f921"
                          ]
                        ],
                        "type": "surface"
                      }
                    ],
                    "table": [
                      {
                        "cells": {
                          "fill": {
                            "color": "#EBF0F8"
                          },
                          "line": {
                            "color": "white"
                          }
                        },
                        "header": {
                          "fill": {
                            "color": "#C8D4E3"
                          },
                          "line": {
                            "color": "white"
                          }
                        },
                        "type": "table"
                      }
                    ]
                  },
                  "layout": {
                    "annotationdefaults": {
                      "arrowcolor": "#2a3f5f",
                      "arrowhead": 0,
                      "arrowwidth": 1
                    },
                    "autotypenumbers": "strict",
                    "coloraxis": {
                      "colorbar": {
                        "outlinewidth": 0,
                        "ticks": ""
                      }
                    },
                    "colorscale": {
                      "diverging": [
                        [
                          0,
                          "#8e0152"
                        ],
                        [
                          0.1,
                          "#c51b7d"
                        ],
                        [
                          0.2,
                          "#de77ae"
                        ],
                        [
                          0.3,
                          "#f1b6da"
                        ],
                        [
                          0.4,
                          "#fde0ef"
                        ],
                        [
                          0.5,
                          "#f7f7f7"
                        ],
                        [
                          0.6,
                          "#e6f5d0"
                        ],
                        [
                          0.7,
                          "#b8e186"
                        ],
                        [
                          0.8,
                          "#7fbc41"
                        ],
                        [
                          0.9,
                          "#4d9221"
                        ],
                        [
                          1,
                          "#276419"
                        ]
                      ],
                      "sequential": [
                        [
                          0,
                          "#0d0887"
                        ],
                        [
                          0.1111111111111111,
                          "#46039f"
                        ],
                        [
                          0.2222222222222222,
                          "#7201a8"
                        ],
                        [
                          0.3333333333333333,
                          "#9c179e"
                        ],
                        [
                          0.4444444444444444,
                          "#bd3786"
                        ],
                        [
                          0.5555555555555556,
                          "#d8576b"
                        ],
                        [
                          0.6666666666666666,
                          "#ed7953"
                        ],
                        [
                          0.7777777777777778,
                          "#fb9f3a"
                        ],
                        [
                          0.8888888888888888,
                          "#fdca26"
                        ],
                        [
                          1,
                          "#f0f921"
                        ]
                      ],
                      "sequentialminus": [
                        [
                          0,
                          "#0d0887"
                        ],
                        [
                          0.1111111111111111,
                          "#46039f"
                        ],
                        [
                          0.2222222222222222,
                          "#7201a8"
                        ],
                        [
                          0.3333333333333333,
                          "#9c179e"
                        ],
                        [
                          0.4444444444444444,
                          "#bd3786"
                        ],
                        [
                          0.5555555555555556,
                          "#d8576b"
                        ],
                        [
                          0.6666666666666666,
                          "#ed7953"
                        ],
                        [
                          0.7777777777777778,
                          "#fb9f3a"
                        ],
                        [
                          0.8888888888888888,
                          "#fdca26"
                        ],
                        [
                          1,
                          "#f0f921"
                        ]
                      ]
                    },
                    "colorway": [
                      "#636efa",
                      "#EF553B",
                      "#00cc96",
                      "#ab63fa",
                      "#FFA15A",
                      "#19d3f3",
                      "#FF6692",
                      "#B6E880",
                      "#FF97FF",
                      "#FECB52"
                    ],
                    "font": {
                      "color": "#2a3f5f"
                    },
                    "geo": {
                      "bgcolor": "white",
                      "lakecolor": "white",
                      "landcolor": "white",
                      "showlakes": true,
                      "showland": true,
                      "subunitcolor": "#C8D4E3"
                    },
                    "hoverlabel": {
                      "align": "left"
                    },
                    "hovermode": "closest",
                    "mapbox": {
                      "style": "light"
                    },
                    "paper_bgcolor": "white",
                    "plot_bgcolor": "white",
                    "polar": {
                      "angularaxis": {
                        "gridcolor": "#EBF0F8",
                        "linecolor": "#EBF0F8",
                        "ticks": ""
                      },
                      "bgcolor": "white",
                      "radialaxis": {
                        "gridcolor": "#EBF0F8",
                        "linecolor": "#EBF0F8",
                        "ticks": ""
                      }
                    },
                    "scene": {
                      "xaxis": {
                        "backgroundcolor": "white",
                        "gridcolor": "#DFE8F3",
                        "gridwidth": 2,
                        "linecolor": "#EBF0F8",
                        "showbackground": true,
                        "ticks": "",
                        "zerolinecolor": "#EBF0F8"
                      },
                      "yaxis": {
                        "backgroundcolor": "white",
                        "gridcolor": "#DFE8F3",
                        "gridwidth": 2,
                        "linecolor": "#EBF0F8",
                        "showbackground": true,
                        "ticks": "",
                        "zerolinecolor": "#EBF0F8"
                      },
                      "zaxis": {
                        "backgroundcolor": "white",
                        "gridcolor": "#DFE8F3",
                        "gridwidth": 2,
                        "linecolor": "#EBF0F8",
                        "showbackground": true,
                        "ticks": "",
                        "zerolinecolor": "#EBF0F8"
                      }
                    },
                    "shapedefaults": {
                      "line": {
                        "color": "#2a3f5f"
                      }
                    },
                    "ternary": {
                      "aaxis": {
                        "gridcolor": "#DFE8F3",
                        "linecolor": "#A2B1C6",
                        "ticks": ""
                      },
                      "baxis": {
                        "gridcolor": "#DFE8F3",
                        "linecolor": "#A2B1C6",
                        "ticks": ""
                      },
                      "bgcolor": "white",
                      "caxis": {
                        "gridcolor": "#DFE8F3",
                        "linecolor": "#A2B1C6",
                        "ticks": ""
                      }
                    },
                    "title": {
                      "x": 0.05
                    },
                    "xaxis": {
                      "automargin": true,
                      "gridcolor": "#EBF0F8",
                      "linecolor": "#EBF0F8",
                      "ticks": "",
                      "title": {
                        "standoff": 15
                      },
                      "zerolinecolor": "#EBF0F8",
                      "zerolinewidth": 2
                    },
                    "yaxis": {
                      "automargin": true,
                      "gridcolor": "#EBF0F8",
                      "linecolor": "#EBF0F8",
                      "ticks": "",
                      "title": {
                        "standoff": 15
                      },
                      "zerolinecolor": "#EBF0F8",
                      "zerolinewidth": 2
                    }
                  }
                },
                "title": {
                  "text": "Relação entre Cancelamento e Variáveis Numéricas"
                },
                "xaxis": {
                  "anchor": "y",
                  "categoryarray": [
                    0,
                    1
                  ],
                  "categoryorder": "array",
                  "domain": [
                    0,
                    1
                  ],
                  "title": {
                    "text": "Status de Cancelamento"
                  }
                },
                "yaxis": {
                  "anchor": "x",
                  "domain": [
                    0,
                    1
                  ],
                  "title": {
                    "text": "Meses_com_empresa"
                  }
                }
              }
            }
          },
          "metadata": {},
          "output_type": "display_data"
        }
      ],
      "source": [
        "# Lista das variáveis numéricas\n",
        "variaveis_numericas = [\"Valor_total\", \"Meses_com_empresa\"]\n",
        "\n",
        "# Criando os gráficos interativos\n",
        "for var in variaveis_numericas:\n",
        "    fig = px.box(\n",
        "        df_final,\n",
        "        x=\"Cancelamento\",\n",
        "        y=var,\n",
        "        color=\"Cancelamento\",\n",
        "        points=\"all\",  # Mostra todos os pontos além do boxplot\n",
        "        title=f\"Relação entre Cancelamento e Variáveis Numéricas\",\n",
        "        labels={\"Cancelamento\": \"Status\", var: var},\n",
        "        color_discrete_sequence=px.colors.qualitative.Set2\n",
        "    )\n",
        "    fig.update_layout(\n",
        "        xaxis_title=\"Status de Cancelamento\",\n",
        "        yaxis_title=var,\n",
        "        legend_title=\"Cancelamento\",\n",
        "        template=\"plotly_white\"\n",
        "    )\n",
        "fig.show()"
      ]
    },
    {
      "cell_type": "markdown",
      "metadata": {
        "id": "v-WzfSvTmaw9"
      },
      "source": [
        "#📄Relatorio Final"
      ]
    },
    {
      "cell_type": "markdown",
      "metadata": {
        "id": "KmGgaC25tKbX"
      },
      "source": [
        "# Relatório de Análise de Cancelamento – Telecom X\n",
        "### 1. Introdução 📝\n",
        "\n",
        "O objetivo desta análise é entender os motivos por trás da alta taxa de cancelamento de clientes da empresa Telecom X, uma operadora de telecomunicações. O cancelamento impacta diretamente a receita e o crescimento da empresa, por isso é essencial identificar padrões e fatores que influenciam essa saída para desenvolver estratégias eficazes de retenção.\n",
        "\n",
        "\n",
        "---\n",
        "\n",
        "\n",
        "### 2. Limpeza e Tratamento de Dados 🧹\n",
        "\n",
        "* Os dados foram importados de uma API disponibilizada via repositório GitHub.\n",
        "\n",
        "* Realizamos a desnormalização dos dados que estavam em formato de dicionários aninhados, transformando-os em um DataFrame plano e utilizável.\n",
        "\n",
        "* Identificamos e tratamos valores ausentes (NaN), inconsistências e duplicidades para garantir a qualidade da base.\n",
        "\n",
        "* Padronizamos os nomes das colunas para português e ajustamos os tipos das variáveis, convertendo valores categóricos (\"Sim\", \"Não\") para binários (1 e 0).\n",
        "\n",
        "* Criamos uma coluna calculada chamada \"Contas_Diarias\" para representar o faturamento diário a partir do faturamento mensal.\n",
        "\n",
        "---\n",
        "### 3. Análise Exploratória de Dados (EDA) 🔍\n",
        "\n",
        "1. Distribuição do Cancelamento\n",
        "\n",
        "* Visualizamos a proporção de clientes que permaneceram e que cancelaram, confirmando que o cancelamento é significativo.\n",
        "\n",
        "* Gráficos de barras foram usados para facilitar a compreensão visual da rotatividade.\n",
        "\n",
        "2. Cancelamento por Variáveis Categóricas\n",
        "\n",
        "* Clientes do sexo feminino apresentaram uma taxa de cancelamento ligeiramente maior que os masculinos.\n",
        "\n",
        "* Contratos do tipo mensal têm mais cancelamentos do que os anuais ou por bens.\n",
        "\n",
        "* Métodos de pagamento automáticos apresentaram menor churn comparados aos métodos manuais.\n",
        "\n",
        "* Clientes sem serviço de telefone ou com certos tipos de serviço de internet apresentaram variações na taxa de cancelamento.\n",
        "\n",
        "3. Cancelamento por Variáveis Numéricas\n",
        "\n",
        "* Clientes que cancelam apresentam, em média, um tempo de serviço menor, indicando cancelamento precoce.\n",
        "\n",
        "* O gasto total dos clientes que saíram tende a ser menor, sugerindo que clientes de menor valor são mais propensos ao cancelamento.\n",
        "\n",
        "* A dispersão e outliers indicam casos atípicos que podem demandar análise individualizada.\n",
        "\n",
        "---\n",
        "###4. Conclusões e Insights 💡\n",
        "\n",
        "* A maior taxa de cancelamento ocorre entre clientes com contratos mensais, tempo de serviço curto e menor gasto total.\n",
        "\n",
        "* Clientes com métodos de pagamento automáticos tendem a cancelar menos, indicando maior conveniência e fidelidade.\n",
        "\n",
        "* A segmentação por sexo e tipo de serviço revela variações que podem ser exploradas para campanhas específicas.\n",
        "\n",
        "* Identificar clientes com tempo curto de serviço e baixo gasto pode ajudar a direcionar ações de retenção antes do cancelamento.\n",
        "\n",
        "---\n",
        "\n",
        "###5. Recomendações 📈\n",
        "* Incentivar contratos de maior prazo ou planos anuais para reduzir o churn.\n",
        "\n",
        "* Promover e facilitar métodos de pagamento automáticos para aumentar a retenção.\n",
        "\n",
        "* Criar campanhas específicas para o público feminino, com foco em melhorar o engajamento.\n",
        "\n",
        "* Monitorar clientes novos e de baixo gasto para oferecer vantagens ou suporte especial, evitando cancelamentos precoces.\n",
        "\n",
        "* Analisar casos atípicos de clientes com gastos e tempo fora da média para entender e mitigar riscos."
      ]
    }
  ],
  "metadata": {
    "colab": {
      "provenance": []
    },
    "kernelspec": {
      "display_name": "Python 3",
      "name": "python3"
    },
    "language_info": {
      "codemirror_mode": {
        "name": "ipython",
        "version": 3
      },
      "file_extension": ".py",
      "mimetype": "text/x-python",
      "name": "python",
      "nbconvert_exporter": "python",
      "pygments_lexer": "ipython3",
      "version": "3.12.1"
    }
  },
  "nbformat": 4,
  "nbformat_minor": 0
}
